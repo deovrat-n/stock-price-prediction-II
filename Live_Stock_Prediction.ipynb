{
  "cells": [
    {
      "cell_type": "markdown",
      "metadata": {
        "id": "view-in-github",
        "colab_type": "text"
      },
      "source": [
        "<a href=\"https://colab.research.google.com/github/deovrat-n/stock-price-prediction-II/blob/main/Live_Stock_Prediction.ipynb\" target=\"_parent\"><img src=\"https://colab.research.google.com/assets/colab-badge.svg\" alt=\"Open In Colab\"/></a>"
      ]
    },
    {
      "cell_type": "code",
      "source": [
        "pip install yfinance"
      ],
      "metadata": {
        "colab": {
          "base_uri": "https://localhost:8080/"
        },
        "id": "P32dIME1l5uS",
        "outputId": "31224198-d5f6-4673-d9bf-b401fcdaf9a6"
      },
      "id": "P32dIME1l5uS",
      "execution_count": 2,
      "outputs": [
        {
          "output_type": "stream",
          "name": "stdout",
          "text": [
            "Looking in indexes: https://pypi.org/simple, https://us-python.pkg.dev/colab-wheels/public/simple/\n",
            "Requirement already satisfied: yfinance in /usr/local/lib/python3.7/dist-packages (0.1.74)\n",
            "Requirement already satisfied: multitasking>=0.0.7 in /usr/local/lib/python3.7/dist-packages (from yfinance) (0.0.11)\n",
            "Requirement already satisfied: requests>=2.26 in /usr/local/lib/python3.7/dist-packages (from yfinance) (2.28.1)\n",
            "Requirement already satisfied: lxml>=4.5.1 in /usr/local/lib/python3.7/dist-packages (from yfinance) (4.9.1)\n",
            "Requirement already satisfied: numpy>=1.15 in /usr/local/lib/python3.7/dist-packages (from yfinance) (1.21.6)\n",
            "Requirement already satisfied: pandas>=0.24.0 in /usr/local/lib/python3.7/dist-packages (from yfinance) (1.3.5)\n",
            "Requirement already satisfied: pytz>=2017.3 in /usr/local/lib/python3.7/dist-packages (from pandas>=0.24.0->yfinance) (2022.1)\n",
            "Requirement already satisfied: python-dateutil>=2.7.3 in /usr/local/lib/python3.7/dist-packages (from pandas>=0.24.0->yfinance) (2.8.2)\n",
            "Requirement already satisfied: six>=1.5 in /usr/local/lib/python3.7/dist-packages (from python-dateutil>=2.7.3->pandas>=0.24.0->yfinance) (1.15.0)\n",
            "Requirement already satisfied: urllib3<1.27,>=1.21.1 in /usr/local/lib/python3.7/dist-packages (from requests>=2.26->yfinance) (1.24.3)\n",
            "Requirement already satisfied: idna<4,>=2.5 in /usr/local/lib/python3.7/dist-packages (from requests>=2.26->yfinance) (2.10)\n",
            "Requirement already satisfied: certifi>=2017.4.17 in /usr/local/lib/python3.7/dist-packages (from requests>=2.26->yfinance) (2022.6.15)\n",
            "Requirement already satisfied: charset-normalizer<3,>=2 in /usr/local/lib/python3.7/dist-packages (from requests>=2.26->yfinance) (2.1.0)\n"
          ]
        }
      ]
    },
    {
      "cell_type": "code",
      "execution_count": 3,
      "id": "f91eb4e9",
      "metadata": {
        "id": "f91eb4e9"
      },
      "outputs": [],
      "source": [
        "#yahoo finance as data source\n",
        "\n",
        "import yfinance as yf"
      ]
    },
    {
      "cell_type": "code",
      "execution_count": 51,
      "id": "ee00f18c",
      "metadata": {
        "id": "ee00f18c"
      },
      "outputs": [],
      "source": [
        "#See the yahoo finance ticker for your stock symbol\n",
        "stock_symbol = 'ASIANPAINT.NS'"
      ]
    },
    {
      "cell_type": "code",
      "execution_count": 52,
      "id": "d365868a",
      "metadata": {
        "colab": {
          "base_uri": "https://localhost:8080/"
        },
        "id": "d365868a",
        "outputId": "74230fae-b29f-42df-db95-4737f4d3d58f"
      },
      "outputs": [
        {
          "output_type": "stream",
          "name": "stdout",
          "text": [
            "\r[*********************100%***********************]  1 of 1 completed\n"
          ]
        }
      ],
      "source": [
        "#last 5 years data with interval of 1 day\n",
        "data = yf.download(tickers=stock_symbol,period='5y',interval='1d')"
      ]
    },
    {
      "cell_type": "code",
      "execution_count": 53,
      "id": "9f82e205",
      "metadata": {
        "colab": {
          "base_uri": "https://localhost:8080/"
        },
        "id": "9f82e205",
        "outputId": "3ba531c4-9ddd-4c94-c157-6d0bb1adee34"
      },
      "outputs": [
        {
          "output_type": "execute_result",
          "data": {
            "text/plain": [
              "pandas.core.frame.DataFrame"
            ]
          },
          "metadata": {},
          "execution_count": 53
        }
      ],
      "source": [
        "type(data)"
      ]
    },
    {
      "cell_type": "code",
      "execution_count": 54,
      "id": "dbbe3e6b",
      "metadata": {
        "colab": {
          "base_uri": "https://localhost:8080/",
          "height": 238
        },
        "id": "dbbe3e6b",
        "outputId": "42e056b8-4493-4ce3-e2e5-d8af2a7c2537"
      },
      "outputs": [
        {
          "output_type": "execute_result",
          "data": {
            "text/plain": [
              "                   Open         High     Low        Close    Adj Close  Volume\n",
              "Date                                                                          \n",
              "2017-08-14  1149.449951  1163.699951  1145.0  1154.000000  1114.454834  511994\n",
              "2017-08-16  1154.349976  1155.300049  1129.0  1141.300049  1102.190308  857454\n",
              "2017-08-17  1141.300049  1142.800049  1132.0  1134.949951  1096.057739  494638\n",
              "2017-08-18  1131.949951  1142.449951  1123.0  1140.000000  1100.934814  357491\n",
              "2017-08-21  1141.800049  1141.800049  1128.5  1134.449951  1095.574951  456594"
            ],
            "text/html": [
              "\n",
              "  <div id=\"df-375dfb7c-9175-4926-8b99-afe27041b201\">\n",
              "    <div class=\"colab-df-container\">\n",
              "      <div>\n",
              "<style scoped>\n",
              "    .dataframe tbody tr th:only-of-type {\n",
              "        vertical-align: middle;\n",
              "    }\n",
              "\n",
              "    .dataframe tbody tr th {\n",
              "        vertical-align: top;\n",
              "    }\n",
              "\n",
              "    .dataframe thead th {\n",
              "        text-align: right;\n",
              "    }\n",
              "</style>\n",
              "<table border=\"1\" class=\"dataframe\">\n",
              "  <thead>\n",
              "    <tr style=\"text-align: right;\">\n",
              "      <th></th>\n",
              "      <th>Open</th>\n",
              "      <th>High</th>\n",
              "      <th>Low</th>\n",
              "      <th>Close</th>\n",
              "      <th>Adj Close</th>\n",
              "      <th>Volume</th>\n",
              "    </tr>\n",
              "    <tr>\n",
              "      <th>Date</th>\n",
              "      <th></th>\n",
              "      <th></th>\n",
              "      <th></th>\n",
              "      <th></th>\n",
              "      <th></th>\n",
              "      <th></th>\n",
              "    </tr>\n",
              "  </thead>\n",
              "  <tbody>\n",
              "    <tr>\n",
              "      <th>2017-08-14</th>\n",
              "      <td>1149.449951</td>\n",
              "      <td>1163.699951</td>\n",
              "      <td>1145.0</td>\n",
              "      <td>1154.000000</td>\n",
              "      <td>1114.454834</td>\n",
              "      <td>511994</td>\n",
              "    </tr>\n",
              "    <tr>\n",
              "      <th>2017-08-16</th>\n",
              "      <td>1154.349976</td>\n",
              "      <td>1155.300049</td>\n",
              "      <td>1129.0</td>\n",
              "      <td>1141.300049</td>\n",
              "      <td>1102.190308</td>\n",
              "      <td>857454</td>\n",
              "    </tr>\n",
              "    <tr>\n",
              "      <th>2017-08-17</th>\n",
              "      <td>1141.300049</td>\n",
              "      <td>1142.800049</td>\n",
              "      <td>1132.0</td>\n",
              "      <td>1134.949951</td>\n",
              "      <td>1096.057739</td>\n",
              "      <td>494638</td>\n",
              "    </tr>\n",
              "    <tr>\n",
              "      <th>2017-08-18</th>\n",
              "      <td>1131.949951</td>\n",
              "      <td>1142.449951</td>\n",
              "      <td>1123.0</td>\n",
              "      <td>1140.000000</td>\n",
              "      <td>1100.934814</td>\n",
              "      <td>357491</td>\n",
              "    </tr>\n",
              "    <tr>\n",
              "      <th>2017-08-21</th>\n",
              "      <td>1141.800049</td>\n",
              "      <td>1141.800049</td>\n",
              "      <td>1128.5</td>\n",
              "      <td>1134.449951</td>\n",
              "      <td>1095.574951</td>\n",
              "      <td>456594</td>\n",
              "    </tr>\n",
              "  </tbody>\n",
              "</table>\n",
              "</div>\n",
              "      <button class=\"colab-df-convert\" onclick=\"convertToInteractive('df-375dfb7c-9175-4926-8b99-afe27041b201')\"\n",
              "              title=\"Convert this dataframe to an interactive table.\"\n",
              "              style=\"display:none;\">\n",
              "        \n",
              "  <svg xmlns=\"http://www.w3.org/2000/svg\" height=\"24px\"viewBox=\"0 0 24 24\"\n",
              "       width=\"24px\">\n",
              "    <path d=\"M0 0h24v24H0V0z\" fill=\"none\"/>\n",
              "    <path d=\"M18.56 5.44l.94 2.06.94-2.06 2.06-.94-2.06-.94-.94-2.06-.94 2.06-2.06.94zm-11 1L8.5 8.5l.94-2.06 2.06-.94-2.06-.94L8.5 2.5l-.94 2.06-2.06.94zm10 10l.94 2.06.94-2.06 2.06-.94-2.06-.94-.94-2.06-.94 2.06-2.06.94z\"/><path d=\"M17.41 7.96l-1.37-1.37c-.4-.4-.92-.59-1.43-.59-.52 0-1.04.2-1.43.59L10.3 9.45l-7.72 7.72c-.78.78-.78 2.05 0 2.83L4 21.41c.39.39.9.59 1.41.59.51 0 1.02-.2 1.41-.59l7.78-7.78 2.81-2.81c.8-.78.8-2.07 0-2.86zM5.41 20L4 18.59l7.72-7.72 1.47 1.35L5.41 20z\"/>\n",
              "  </svg>\n",
              "      </button>\n",
              "      \n",
              "  <style>\n",
              "    .colab-df-container {\n",
              "      display:flex;\n",
              "      flex-wrap:wrap;\n",
              "      gap: 12px;\n",
              "    }\n",
              "\n",
              "    .colab-df-convert {\n",
              "      background-color: #E8F0FE;\n",
              "      border: none;\n",
              "      border-radius: 50%;\n",
              "      cursor: pointer;\n",
              "      display: none;\n",
              "      fill: #1967D2;\n",
              "      height: 32px;\n",
              "      padding: 0 0 0 0;\n",
              "      width: 32px;\n",
              "    }\n",
              "\n",
              "    .colab-df-convert:hover {\n",
              "      background-color: #E2EBFA;\n",
              "      box-shadow: 0px 1px 2px rgba(60, 64, 67, 0.3), 0px 1px 3px 1px rgba(60, 64, 67, 0.15);\n",
              "      fill: #174EA6;\n",
              "    }\n",
              "\n",
              "    [theme=dark] .colab-df-convert {\n",
              "      background-color: #3B4455;\n",
              "      fill: #D2E3FC;\n",
              "    }\n",
              "\n",
              "    [theme=dark] .colab-df-convert:hover {\n",
              "      background-color: #434B5C;\n",
              "      box-shadow: 0px 1px 3px 1px rgba(0, 0, 0, 0.15);\n",
              "      filter: drop-shadow(0px 1px 2px rgba(0, 0, 0, 0.3));\n",
              "      fill: #FFFFFF;\n",
              "    }\n",
              "  </style>\n",
              "\n",
              "      <script>\n",
              "        const buttonEl =\n",
              "          document.querySelector('#df-375dfb7c-9175-4926-8b99-afe27041b201 button.colab-df-convert');\n",
              "        buttonEl.style.display =\n",
              "          google.colab.kernel.accessAllowed ? 'block' : 'none';\n",
              "\n",
              "        async function convertToInteractive(key) {\n",
              "          const element = document.querySelector('#df-375dfb7c-9175-4926-8b99-afe27041b201');\n",
              "          const dataTable =\n",
              "            await google.colab.kernel.invokeFunction('convertToInteractive',\n",
              "                                                     [key], {});\n",
              "          if (!dataTable) return;\n",
              "\n",
              "          const docLinkHtml = 'Like what you see? Visit the ' +\n",
              "            '<a target=\"_blank\" href=https://colab.research.google.com/notebooks/data_table.ipynb>data table notebook</a>'\n",
              "            + ' to learn more about interactive tables.';\n",
              "          element.innerHTML = '';\n",
              "          dataTable['output_type'] = 'display_data';\n",
              "          await google.colab.output.renderOutput(dataTable, element);\n",
              "          const docLink = document.createElement('div');\n",
              "          docLink.innerHTML = docLinkHtml;\n",
              "          element.appendChild(docLink);\n",
              "        }\n",
              "      </script>\n",
              "    </div>\n",
              "  </div>\n",
              "  "
            ]
          },
          "metadata": {},
          "execution_count": 54
        }
      ],
      "source": [
        "data.head()"
      ]
    },
    {
      "cell_type": "code",
      "execution_count": 55,
      "id": "9d445949",
      "metadata": {
        "colab": {
          "base_uri": "https://localhost:8080/"
        },
        "id": "9d445949",
        "outputId": "bf6caf0f-dccb-46bc-b4f7-18d8ed1899dd"
      },
      "outputs": [
        {
          "output_type": "execute_result",
          "data": {
            "text/plain": [
              "1236"
            ]
          },
          "metadata": {},
          "execution_count": 55
        }
      ],
      "source": [
        "len(data)"
      ]
    },
    {
      "cell_type": "code",
      "execution_count": 56,
      "id": "bf283ad5",
      "metadata": {
        "colab": {
          "base_uri": "https://localhost:8080/",
          "height": 238
        },
        "id": "bf283ad5",
        "outputId": "997b4a5a-e7a3-4476-dc04-0421a7fc314b"
      },
      "outputs": [
        {
          "output_type": "execute_result",
          "data": {
            "text/plain": [
              "              Open         High          Low        Close    Adj Close  \\\n",
              "Date                                                                     \n",
              "2022-08-05  3475.0  3491.949951  3451.550049  3473.899902  3473.899902   \n",
              "2022-08-08  3465.0  3476.949951  3436.550049  3458.449951  3458.449951   \n",
              "2022-08-10  3441.0  3449.850098  3396.000000  3411.649902  3411.649902   \n",
              "2022-08-11  3450.0  3477.949951  3390.000000  3405.199951  3405.199951   \n",
              "2022-08-12  3399.0  3434.800049  3383.000000  3427.850098  3427.850098   \n",
              "\n",
              "             Volume  \n",
              "Date                 \n",
              "2022-08-05   792478  \n",
              "2022-08-08   724644  \n",
              "2022-08-10  1089295  \n",
              "2022-08-11  1410533  \n",
              "2022-08-12   548472  "
            ],
            "text/html": [
              "\n",
              "  <div id=\"df-762b8ca1-a322-4f59-8728-40390ead65c0\">\n",
              "    <div class=\"colab-df-container\">\n",
              "      <div>\n",
              "<style scoped>\n",
              "    .dataframe tbody tr th:only-of-type {\n",
              "        vertical-align: middle;\n",
              "    }\n",
              "\n",
              "    .dataframe tbody tr th {\n",
              "        vertical-align: top;\n",
              "    }\n",
              "\n",
              "    .dataframe thead th {\n",
              "        text-align: right;\n",
              "    }\n",
              "</style>\n",
              "<table border=\"1\" class=\"dataframe\">\n",
              "  <thead>\n",
              "    <tr style=\"text-align: right;\">\n",
              "      <th></th>\n",
              "      <th>Open</th>\n",
              "      <th>High</th>\n",
              "      <th>Low</th>\n",
              "      <th>Close</th>\n",
              "      <th>Adj Close</th>\n",
              "      <th>Volume</th>\n",
              "    </tr>\n",
              "    <tr>\n",
              "      <th>Date</th>\n",
              "      <th></th>\n",
              "      <th></th>\n",
              "      <th></th>\n",
              "      <th></th>\n",
              "      <th></th>\n",
              "      <th></th>\n",
              "    </tr>\n",
              "  </thead>\n",
              "  <tbody>\n",
              "    <tr>\n",
              "      <th>2022-08-05</th>\n",
              "      <td>3475.0</td>\n",
              "      <td>3491.949951</td>\n",
              "      <td>3451.550049</td>\n",
              "      <td>3473.899902</td>\n",
              "      <td>3473.899902</td>\n",
              "      <td>792478</td>\n",
              "    </tr>\n",
              "    <tr>\n",
              "      <th>2022-08-08</th>\n",
              "      <td>3465.0</td>\n",
              "      <td>3476.949951</td>\n",
              "      <td>3436.550049</td>\n",
              "      <td>3458.449951</td>\n",
              "      <td>3458.449951</td>\n",
              "      <td>724644</td>\n",
              "    </tr>\n",
              "    <tr>\n",
              "      <th>2022-08-10</th>\n",
              "      <td>3441.0</td>\n",
              "      <td>3449.850098</td>\n",
              "      <td>3396.000000</td>\n",
              "      <td>3411.649902</td>\n",
              "      <td>3411.649902</td>\n",
              "      <td>1089295</td>\n",
              "    </tr>\n",
              "    <tr>\n",
              "      <th>2022-08-11</th>\n",
              "      <td>3450.0</td>\n",
              "      <td>3477.949951</td>\n",
              "      <td>3390.000000</td>\n",
              "      <td>3405.199951</td>\n",
              "      <td>3405.199951</td>\n",
              "      <td>1410533</td>\n",
              "    </tr>\n",
              "    <tr>\n",
              "      <th>2022-08-12</th>\n",
              "      <td>3399.0</td>\n",
              "      <td>3434.800049</td>\n",
              "      <td>3383.000000</td>\n",
              "      <td>3427.850098</td>\n",
              "      <td>3427.850098</td>\n",
              "      <td>548472</td>\n",
              "    </tr>\n",
              "  </tbody>\n",
              "</table>\n",
              "</div>\n",
              "      <button class=\"colab-df-convert\" onclick=\"convertToInteractive('df-762b8ca1-a322-4f59-8728-40390ead65c0')\"\n",
              "              title=\"Convert this dataframe to an interactive table.\"\n",
              "              style=\"display:none;\">\n",
              "        \n",
              "  <svg xmlns=\"http://www.w3.org/2000/svg\" height=\"24px\"viewBox=\"0 0 24 24\"\n",
              "       width=\"24px\">\n",
              "    <path d=\"M0 0h24v24H0V0z\" fill=\"none\"/>\n",
              "    <path d=\"M18.56 5.44l.94 2.06.94-2.06 2.06-.94-2.06-.94-.94-2.06-.94 2.06-2.06.94zm-11 1L8.5 8.5l.94-2.06 2.06-.94-2.06-.94L8.5 2.5l-.94 2.06-2.06.94zm10 10l.94 2.06.94-2.06 2.06-.94-2.06-.94-.94-2.06-.94 2.06-2.06.94z\"/><path d=\"M17.41 7.96l-1.37-1.37c-.4-.4-.92-.59-1.43-.59-.52 0-1.04.2-1.43.59L10.3 9.45l-7.72 7.72c-.78.78-.78 2.05 0 2.83L4 21.41c.39.39.9.59 1.41.59.51 0 1.02-.2 1.41-.59l7.78-7.78 2.81-2.81c.8-.78.8-2.07 0-2.86zM5.41 20L4 18.59l7.72-7.72 1.47 1.35L5.41 20z\"/>\n",
              "  </svg>\n",
              "      </button>\n",
              "      \n",
              "  <style>\n",
              "    .colab-df-container {\n",
              "      display:flex;\n",
              "      flex-wrap:wrap;\n",
              "      gap: 12px;\n",
              "    }\n",
              "\n",
              "    .colab-df-convert {\n",
              "      background-color: #E8F0FE;\n",
              "      border: none;\n",
              "      border-radius: 50%;\n",
              "      cursor: pointer;\n",
              "      display: none;\n",
              "      fill: #1967D2;\n",
              "      height: 32px;\n",
              "      padding: 0 0 0 0;\n",
              "      width: 32px;\n",
              "    }\n",
              "\n",
              "    .colab-df-convert:hover {\n",
              "      background-color: #E2EBFA;\n",
              "      box-shadow: 0px 1px 2px rgba(60, 64, 67, 0.3), 0px 1px 3px 1px rgba(60, 64, 67, 0.15);\n",
              "      fill: #174EA6;\n",
              "    }\n",
              "\n",
              "    [theme=dark] .colab-df-convert {\n",
              "      background-color: #3B4455;\n",
              "      fill: #D2E3FC;\n",
              "    }\n",
              "\n",
              "    [theme=dark] .colab-df-convert:hover {\n",
              "      background-color: #434B5C;\n",
              "      box-shadow: 0px 1px 3px 1px rgba(0, 0, 0, 0.15);\n",
              "      filter: drop-shadow(0px 1px 2px rgba(0, 0, 0, 0.3));\n",
              "      fill: #FFFFFF;\n",
              "    }\n",
              "  </style>\n",
              "\n",
              "      <script>\n",
              "        const buttonEl =\n",
              "          document.querySelector('#df-762b8ca1-a322-4f59-8728-40390ead65c0 button.colab-df-convert');\n",
              "        buttonEl.style.display =\n",
              "          google.colab.kernel.accessAllowed ? 'block' : 'none';\n",
              "\n",
              "        async function convertToInteractive(key) {\n",
              "          const element = document.querySelector('#df-762b8ca1-a322-4f59-8728-40390ead65c0');\n",
              "          const dataTable =\n",
              "            await google.colab.kernel.invokeFunction('convertToInteractive',\n",
              "                                                     [key], {});\n",
              "          if (!dataTable) return;\n",
              "\n",
              "          const docLinkHtml = 'Like what you see? Visit the ' +\n",
              "            '<a target=\"_blank\" href=https://colab.research.google.com/notebooks/data_table.ipynb>data table notebook</a>'\n",
              "            + ' to learn more about interactive tables.';\n",
              "          element.innerHTML = '';\n",
              "          dataTable['output_type'] = 'display_data';\n",
              "          await google.colab.output.renderOutput(dataTable, element);\n",
              "          const docLink = document.createElement('div');\n",
              "          docLink.innerHTML = docLinkHtml;\n",
              "          element.appendChild(docLink);\n",
              "        }\n",
              "      </script>\n",
              "    </div>\n",
              "  </div>\n",
              "  "
            ]
          },
          "metadata": {},
          "execution_count": 56
        }
      ],
      "source": [
        "data.tail()"
      ]
    },
    {
      "cell_type": "code",
      "execution_count": 57,
      "id": "6292e20a",
      "metadata": {
        "id": "6292e20a"
      },
      "outputs": [],
      "source": [
        "opn = data[['Open']]"
      ]
    },
    {
      "cell_type": "code",
      "execution_count": 58,
      "id": "21e132d8",
      "metadata": {
        "colab": {
          "base_uri": "https://localhost:8080/",
          "height": 286
        },
        "id": "21e132d8",
        "outputId": "a3a02269-d041-40fe-917d-0feb299d90bc"
      },
      "outputs": [
        {
          "output_type": "execute_result",
          "data": {
            "text/plain": [
              "<matplotlib.axes._subplots.AxesSubplot at 0x7fc815223f90>"
            ]
          },
          "metadata": {},
          "execution_count": 58
        },
        {
          "output_type": "display_data",
          "data": {
            "text/plain": [
              "<Figure size 432x288 with 1 Axes>"
            ],
            "image/png": "[encoded data removed]"
          },
          "metadata": {
            "needs_background": "light"
          }
        }
      ],
      "source": [
        "opn.plot()"
      ]
    },
    {
      "cell_type": "code",
      "execution_count": 59,
      "id": "c5194440",
      "metadata": {
        "id": "c5194440"
      },
      "outputs": [],
      "source": [
        "import matplotlib.pyplot as plt"
      ]
    },
    {
      "cell_type": "code",
      "execution_count": 60,
      "id": "8038cb6a",
      "metadata": {
        "id": "8038cb6a"
      },
      "outputs": [],
      "source": [
        "ds = opn.values"
      ]
    },
    {
      "cell_type": "code",
      "execution_count": 61,
      "id": "69b08672",
      "metadata": {
        "colab": {
          "base_uri": "https://localhost:8080/"
        },
        "id": "69b08672",
        "outputId": "74d2478c-f6a7-4aef-aeae-0b9a2671766f"
      },
      "outputs": [
        {
          "output_type": "execute_result",
          "data": {
            "text/plain": [
              "array([[1149.44995117],\n",
              "       [1154.34997559],\n",
              "       [1141.30004883],\n",
              "       ...,\n",
              "       [3441.        ],\n",
              "       [3450.        ],\n",
              "       [3399.        ]])"
            ]
          },
          "metadata": {},
          "execution_count": 61
        }
      ],
      "source": [
        "ds"
      ]
    },
    {
      "cell_type": "code",
      "execution_count": 62,
      "id": "af022e3c",
      "metadata": {
        "colab": {
          "base_uri": "https://localhost:8080/",
          "height": 282
        },
        "id": "af022e3c",
        "outputId": "3e50080c-433e-43c6-d8dd-0530d1a8f5db"
      },
      "outputs": [
        {
          "output_type": "execute_result",
          "data": {
            "text/plain": [
              "[<matplotlib.lines.Line2D at 0x7fc8151818d0>]"
            ]
          },
          "metadata": {},
          "execution_count": 62
        },
        {
          "output_type": "display_data",
          "data": {
            "text/plain": [
              "<Figure size 432x288 with 1 Axes>"
            ],
            "image/png": "[encoded data removed]"
          },
          "metadata": {
            "needs_background": "light"
          }
        }
      ],
      "source": [
        "plt.plot(ds)"
      ]
    },
    {
      "cell_type": "code",
      "execution_count": 63,
      "id": "0e73b789",
      "metadata": {
        "id": "0e73b789"
      },
      "outputs": [],
      "source": [
        "import numpy as np"
      ]
    },
    {
      "cell_type": "code",
      "execution_count": 64,
      "id": "0e6c1c22",
      "metadata": {
        "id": "0e6c1c22"
      },
      "outputs": [],
      "source": [
        "from sklearn.preprocessing import MinMaxScaler"
      ]
    },
    {
      "cell_type": "code",
      "execution_count": 65,
      "id": "cf6a3e1b",
      "metadata": {
        "id": "cf6a3e1b"
      },
      "outputs": [],
      "source": [
        "#Using MinMaxScaler for normalizing data between 0 & 1\n",
        "normalizer = MinMaxScaler(feature_range=(0,1))\n",
        "ds_scaled = normalizer.fit_transform(np.array(ds).reshape(-1,1))"
      ]
    },
    {
      "cell_type": "code",
      "execution_count": 66,
      "id": "7dbea1d5",
      "metadata": {
        "colab": {
          "base_uri": "https://localhost:8080/"
        },
        "id": "7dbea1d5",
        "outputId": "165fb7de-c295-470f-d3e6-53b382d9cd64"
      },
      "outputs": [
        {
          "output_type": "execute_result",
          "data": {
            "text/plain": [
              "(1236, 1236)"
            ]
          },
          "metadata": {},
          "execution_count": 66
        }
      ],
      "source": [
        "len(ds_scaled), len(ds)"
      ]
    },
    {
      "cell_type": "code",
      "execution_count": 67,
      "id": "a20c5654",
      "metadata": {
        "id": "a20c5654"
      },
      "outputs": [],
      "source": [
        "#Defining test and train data sizes\n",
        "train_size = int(len(ds_scaled)*0.70)\n",
        "test_size = len(ds_scaled) - train_size"
      ]
    },
    {
      "cell_type": "code",
      "execution_count": 68,
      "id": "b964aa4e",
      "metadata": {
        "colab": {
          "base_uri": "https://localhost:8080/"
        },
        "id": "b964aa4e",
        "outputId": "381d5fca-a4b3-4ffd-9351-fbfeafef5231"
      },
      "outputs": [
        {
          "output_type": "execute_result",
          "data": {
            "text/plain": [
              "(865, 371)"
            ]
          },
          "metadata": {},
          "execution_count": 68
        }
      ],
      "source": [
        "train_size,test_size"
      ]
    },
    {
      "cell_type": "code",
      "execution_count": 69,
      "id": "25ca615e",
      "metadata": {
        "id": "25ca615e"
      },
      "outputs": [],
      "source": [
        "#Splitting data between train and test\n",
        "ds_train, ds_test = ds_scaled[0:train_size,:], ds_scaled[train_size:len(ds_scaled),:1]"
      ]
    },
    {
      "cell_type": "code",
      "execution_count": 70,
      "id": "95913f28",
      "metadata": {
        "colab": {
          "base_uri": "https://localhost:8080/"
        },
        "id": "95913f28",
        "outputId": "a336e299-a93c-48cd-e8fc-5c7b6099f23b"
      },
      "outputs": [
        {
          "output_type": "execute_result",
          "data": {
            "text/plain": [
              "(865, 371)"
            ]
          },
          "metadata": {},
          "execution_count": 70
        }
      ],
      "source": [
        "len(ds_train),len(ds_test)"
      ]
    },
    {
      "cell_type": "code",
      "execution_count": 71,
      "id": "5dd0b45e",
      "metadata": {
        "id": "5dd0b45e"
      },
      "outputs": [],
      "source": [
        "#creating dataset in time series for LSTM model \n",
        "#X[100,120,140,160,180] : Y[200]\n",
        "def create_ds(dataset,step):\n",
        "    Xtrain, Ytrain = [], []\n",
        "    for i in range(len(dataset)-step-1):\n",
        "        a = dataset[i:(i+step), 0]\n",
        "        Xtrain.append(a)\n",
        "        Ytrain.append(dataset[i + step, 0])\n",
        "    return np.array(Xtrain), np.array(Ytrain)"
      ]
    },
    {
      "cell_type": "code",
      "execution_count": 86,
      "id": "d28b7d1d",
      "metadata": {
        "id": "d28b7d1d"
      },
      "outputs": [],
      "source": [
        "#Taking 100 days price as one record for training\n",
        "time_stamp = 50\n",
        "X_train, y_train = create_ds(ds_train,time_stamp)\n",
        "X_test, y_test = create_ds(ds_test,time_stamp)"
      ]
    },
    {
      "cell_type": "code",
      "execution_count": 87,
      "id": "03ce9096",
      "metadata": {
        "colab": {
          "base_uri": "https://localhost:8080/"
        },
        "id": "03ce9096",
        "outputId": "40a27385-484e-4616-cfd8-18db059e51dd"
      },
      "outputs": [
        {
          "output_type": "execute_result",
          "data": {
            "text/plain": [
              "((814, 50), (814,))"
            ]
          },
          "metadata": {},
          "execution_count": 87
        }
      ],
      "source": [
        "X_train.shape,y_train.shape"
      ]
    },
    {
      "cell_type": "code",
      "execution_count": 88,
      "id": "84acdd72",
      "metadata": {
        "colab": {
          "base_uri": "https://localhost:8080/"
        },
        "id": "84acdd72",
        "outputId": "b6635836-7971-47bc-8109-3c02b20a04e3"
      },
      "outputs": [
        {
          "output_type": "execute_result",
          "data": {
            "text/plain": [
              "((320, 50), (320,))"
            ]
          },
          "metadata": {},
          "execution_count": 88
        }
      ],
      "source": [
        "X_test.shape, y_test.shape"
      ]
    },
    {
      "cell_type": "code",
      "execution_count": 89,
      "id": "c657d193",
      "metadata": {
        "id": "c657d193"
      },
      "outputs": [],
      "source": [
        "#Reshaping data to fit into LSTM model\n",
        "X_train = X_train.reshape(X_train.shape[0],X_train.shape[1] , 1)\n",
        "X_test = X_test.reshape(X_test.shape[0],X_test.shape[1] , 1)"
      ]
    },
    {
      "cell_type": "code",
      "execution_count": 90,
      "id": "82844671",
      "metadata": {
        "id": "82844671"
      },
      "outputs": [],
      "source": [
        "from keras.models import Sequential\n",
        "from keras.layers import Dense, LSTM"
      ]
    },
    {
      "cell_type": "code",
      "execution_count": 91,
      "id": "b5250913",
      "metadata": {
        "colab": {
          "base_uri": "https://localhost:8080/"
        },
        "id": "b5250913",
        "outputId": "313acca3-efd4-4515-f70a-57f2e968b70e"
      },
      "outputs": [
        {
          "output_type": "stream",
          "name": "stdout",
          "text": [
            "Model: \"sequential_2\"\n",
            "_________________________________________________________________\n",
            " Layer (type)                Output Shape              Param #   \n",
            "=================================================================\n",
            " lstm_6 (LSTM)               (None, 50, 50)            10400     \n",
            "                                                                 \n",
            " lstm_7 (LSTM)               (None, 50, 50)            20200     \n",
            "                                                                 \n",
            " lstm_8 (LSTM)               (None, 50)                20200     \n",
            "                                                                 \n",
            " dense_2 (Dense)             (None, 1)                 51        \n",
            "                                                                 \n",
            "=================================================================\n",
            "Total params: 50,851\n",
            "Trainable params: 50,851\n",
            "Non-trainable params: 0\n",
            "_________________________________________________________________\n"
          ]
        }
      ],
      "source": [
        "#Creating LSTM model using keras\n",
        "model = Sequential()\n",
        "model.add(LSTM(units=50,return_sequences=True,input_shape=(X_train.shape[1],1)))\n",
        "model.add(LSTM(units=50,return_sequences=True))\n",
        "model.add(LSTM(units=50))\n",
        "model.add(Dense(units=1,activation='linear'))\n",
        "model.summary()"
      ]
    },
    {
      "cell_type": "code",
      "execution_count": 101,
      "id": "7e8ff062",
      "metadata": {
        "colab": {
          "base_uri": "https://localhost:8080/"
        },
        "id": "7e8ff062",
        "outputId": "adb147dc-f440-4eac-e0ee-e513bdbc355c"
      },
      "outputs": [
        {
          "output_type": "stream",
          "name": "stdout",
          "text": [
            "Epoch 1/50\n",
            "13/13 [==============================] - 10s 217ms/step - loss: 7.9990e-04 - val_loss: 8.7813e-04\n",
            "Epoch 2/50\n",
            "13/13 [==============================] - 1s 115ms/step - loss: 3.4090e-04 - val_loss: 8.9814e-04\n",
            "Epoch 3/50\n",
            "13/13 [==============================] - 1s 115ms/step - loss: 2.8352e-04 - val_loss: 0.0036\n",
            "Epoch 4/50\n",
            "13/13 [==============================] - 1s 110ms/step - loss: 2.6571e-04 - val_loss: 0.0024\n",
            "Epoch 5/50\n",
            "13/13 [==============================] - 1s 115ms/step - loss: 2.3934e-04 - val_loss: 0.0013\n",
            "Epoch 6/50\n",
            "13/13 [==============================] - 1s 111ms/step - loss: 2.3968e-04 - val_loss: 0.0019\n",
            "Epoch 7/50\n",
            "13/13 [==============================] - 1s 114ms/step - loss: 2.3644e-04 - val_loss: 0.0010\n",
            "Epoch 8/50\n",
            "13/13 [==============================] - 1s 111ms/step - loss: 2.4187e-04 - val_loss: 0.0010\n",
            "Epoch 9/50\n",
            "13/13 [==============================] - 1s 112ms/step - loss: 2.2340e-04 - val_loss: 0.0018\n",
            "Epoch 10/50\n",
            "13/13 [==============================] - 1s 108ms/step - loss: 2.4145e-04 - val_loss: 0.0033\n",
            "Epoch 11/50\n",
            "13/13 [==============================] - 1s 109ms/step - loss: 2.3319e-04 - val_loss: 8.9960e-04\n",
            "Epoch 12/50\n",
            "13/13 [==============================] - 1s 111ms/step - loss: 2.1420e-04 - val_loss: 9.3911e-04\n",
            "Epoch 13/50\n",
            "13/13 [==============================] - 1s 109ms/step - loss: 2.1781e-04 - val_loss: 9.3736e-04\n",
            "Epoch 14/50\n",
            "13/13 [==============================] - 1s 107ms/step - loss: 2.0950e-04 - val_loss: 0.0035\n",
            "Epoch 15/50\n",
            "13/13 [==============================] - 1s 109ms/step - loss: 2.1958e-04 - val_loss: 0.0024\n",
            "Epoch 16/50\n",
            "13/13 [==============================] - 1s 107ms/step - loss: 2.2732e-04 - val_loss: 0.0012\n",
            "Epoch 17/50\n",
            "13/13 [==============================] - 1s 107ms/step - loss: 2.2700e-04 - val_loss: 8.0049e-04\n",
            "Epoch 18/50\n",
            "13/13 [==============================] - 1s 115ms/step - loss: 2.1869e-04 - val_loss: 0.0011\n",
            "Epoch 19/50\n",
            "13/13 [==============================] - 1s 109ms/step - loss: 2.4767e-04 - val_loss: 0.0025\n",
            "Epoch 20/50\n",
            "13/13 [==============================] - 1s 110ms/step - loss: 2.2331e-04 - val_loss: 0.0012\n",
            "Epoch 21/50\n",
            "13/13 [==============================] - 1s 109ms/step - loss: 2.0925e-04 - val_loss: 6.3432e-04\n",
            "Epoch 22/50\n",
            "13/13 [==============================] - 1s 110ms/step - loss: 1.9938e-04 - val_loss: 7.3313e-04\n",
            "Epoch 23/50\n",
            "13/13 [==============================] - 1s 109ms/step - loss: 1.9085e-04 - val_loss: 0.0018\n",
            "Epoch 24/50\n",
            "13/13 [==============================] - 1s 109ms/step - loss: 1.7874e-04 - val_loss: 0.0012\n",
            "Epoch 25/50\n",
            "13/13 [==============================] - 1s 112ms/step - loss: 1.8469e-04 - val_loss: 0.0019\n",
            "Epoch 26/50\n",
            "13/13 [==============================] - 1s 113ms/step - loss: 1.9638e-04 - val_loss: 0.0052\n",
            "Epoch 27/50\n",
            "13/13 [==============================] - 1s 110ms/step - loss: 2.0118e-04 - val_loss: 0.0020\n",
            "Epoch 28/50\n",
            "13/13 [==============================] - 1s 112ms/step - loss: 1.8721e-04 - val_loss: 0.0011\n",
            "Epoch 29/50\n",
            "13/13 [==============================] - 1s 107ms/step - loss: 1.7582e-04 - val_loss: 0.0011\n",
            "Epoch 30/50\n",
            "13/13 [==============================] - 1s 109ms/step - loss: 1.9467e-04 - val_loss: 0.0010\n",
            "Epoch 31/50\n",
            "13/13 [==============================] - 1s 111ms/step - loss: 1.8403e-04 - val_loss: 0.0011\n",
            "Epoch 32/50\n",
            "13/13 [==============================] - 1s 109ms/step - loss: 1.6773e-04 - val_loss: 6.6603e-04\n",
            "Epoch 33/50\n",
            "13/13 [==============================] - 1s 107ms/step - loss: 1.6343e-04 - val_loss: 7.2822e-04\n",
            "Epoch 34/50\n",
            "13/13 [==============================] - 1s 114ms/step - loss: 1.7423e-04 - val_loss: 7.9721e-04\n",
            "Epoch 35/50\n",
            "13/13 [==============================] - 1s 110ms/step - loss: 1.8071e-04 - val_loss: 0.0014\n",
            "Epoch 36/50\n",
            "13/13 [==============================] - 1s 110ms/step - loss: 1.5586e-04 - val_loss: 0.0013\n",
            "Epoch 37/50\n",
            "13/13 [==============================] - 1s 110ms/step - loss: 1.5515e-04 - val_loss: 8.0480e-04\n",
            "Epoch 38/50\n",
            "13/13 [==============================] - 1s 114ms/step - loss: 1.7461e-04 - val_loss: 0.0014\n",
            "Epoch 39/50\n",
            "13/13 [==============================] - 1s 114ms/step - loss: 1.8588e-04 - val_loss: 0.0028\n",
            "Epoch 40/50\n",
            "13/13 [==============================] - 1s 108ms/step - loss: 2.1125e-04 - val_loss: 0.0037\n",
            "Epoch 41/50\n",
            "13/13 [==============================] - 1s 110ms/step - loss: 2.0375e-04 - val_loss: 0.0020\n",
            "Epoch 42/50\n",
            "13/13 [==============================] - 1s 111ms/step - loss: 1.7384e-04 - val_loss: 0.0016\n",
            "Epoch 43/50\n",
            "13/13 [==============================] - 1s 113ms/step - loss: 1.8315e-04 - val_loss: 6.6898e-04\n",
            "Epoch 44/50\n",
            "13/13 [==============================] - 2s 156ms/step - loss: 1.6968e-04 - val_loss: 0.0012\n",
            "Epoch 45/50\n",
            "13/13 [==============================] - 1s 111ms/step - loss: 1.8619e-04 - val_loss: 0.0012\n",
            "Epoch 46/50\n",
            "13/13 [==============================] - 1s 109ms/step - loss: 1.7195e-04 - val_loss: 6.5438e-04\n",
            "Epoch 47/50\n",
            "13/13 [==============================] - 1s 108ms/step - loss: 1.6485e-04 - val_loss: 7.2571e-04\n",
            "Epoch 48/50\n",
            "13/13 [==============================] - 1s 110ms/step - loss: 1.5592e-04 - val_loss: 9.9384e-04\n",
            "Epoch 49/50\n",
            "13/13 [==============================] - 1s 114ms/step - loss: 1.5571e-04 - val_loss: 0.0025\n",
            "Epoch 50/50\n",
            "13/13 [==============================] - 1s 109ms/step - loss: 2.3157e-04 - val_loss: 6.5334e-04\n"
          ]
        },
        {
          "output_type": "execute_result",
          "data": {
            "text/plain": [
              "<keras.callbacks.History at 0x7fc80eaa9d10>"
            ]
          },
          "metadata": {},
          "execution_count": 101
        }
      ],
      "source": [
        "#Training model with adam optimizer and mean squared error loss function\n",
        "model.compile(loss='mean_squared_error',optimizer='adam')\n",
        "model.fit(X_train,y_train,validation_data=(X_test,y_test),epochs=50,batch_size=64)"
      ]
    },
    {
      "cell_type": "code",
      "execution_count": 102,
      "id": "18b1ba6a",
      "metadata": {
        "colab": {
          "base_uri": "https://localhost:8080/",
          "height": 282
        },
        "id": "18b1ba6a",
        "outputId": "55ead5b8-0d6a-4599-8417-0eeb0d4010a5"
      },
      "outputs": [
        {
          "output_type": "execute_result",
          "data": {
            "text/plain": [
              "[<matplotlib.lines.Line2D at 0x7fc805dc4750>]"
            ]
          },
          "metadata": {},
          "execution_count": 102
        },
        {
          "output_type": "display_data",
          "data": {
            "text/plain": [
              "<Figure size 432x288 with 1 Axes>"
            ],
            "image/png": "[encoded data removed]"
          },
          "metadata": {
            "needs_background": "light"
          }
        }
      ],
      "source": [
        "#PLotting loss, it shows that loss has decreased significantly and model trained well\n",
        "loss = model.history.history['loss']\n",
        "plt.plot(loss)"
      ]
    },
    {
      "cell_type": "code",
      "execution_count": 103,
      "id": "3e7f2fc8",
      "metadata": {
        "id": "3e7f2fc8"
      },
      "outputs": [],
      "source": [
        "#Predicitng on train and test data\n",
        "train_predict = model.predict(X_train)\n",
        "test_predict = model.predict(X_test)"
      ]
    },
    {
      "cell_type": "code",
      "execution_count": 104,
      "id": "c2d6c2d5",
      "metadata": {
        "id": "c2d6c2d5"
      },
      "outputs": [],
      "source": [
        "#Inverse transform to get actual value\n",
        "train_predict = normalizer.inverse_transform(train_predict)\n",
        "test_predict = normalizer.inverse_transform(test_predict)"
      ]
    },
    {
      "cell_type": "code",
      "execution_count": 105,
      "id": "9d0543ad",
      "metadata": {
        "colab": {
          "base_uri": "https://localhost:8080/",
          "height": 282
        },
        "id": "9d0543ad",
        "outputId": "b51e2452-6d98-4e14-9293-11cde1d64ff1"
      },
      "outputs": [
        {
          "output_type": "execute_result",
          "data": {
            "text/plain": [
              "[<matplotlib.lines.Line2D at 0x7fc809b3d6d0>]"
            ]
          },
          "metadata": {},
          "execution_count": 105
        },
        {
          "output_type": "display_data",
          "data": {
            "text/plain": [
              "<Figure size 432x288 with 1 Axes>"
            ],
            "image/png": "[encoded data removed]"
          },
          "metadata": {
            "needs_background": "light"
          }
        }
      ],
      "source": [
        "#Comparing using visuals\n",
        "plt.plot(normalizer.inverse_transform(ds_scaled))\n",
        "plt.plot(train_predict)\n",
        "plt.plot(test_predict)"
      ]
    },
    {
      "cell_type": "code",
      "execution_count": 106,
      "id": "55300bae",
      "metadata": {
        "colab": {
          "base_uri": "https://localhost:8080/"
        },
        "id": "55300bae",
        "outputId": "26f8ecf7-481b-45ca-bc48-33a976813f17"
      },
      "outputs": [
        {
          "output_type": "execute_result",
          "data": {
            "text/plain": [
              "numpy.ndarray"
            ]
          },
          "metadata": {},
          "execution_count": 106
        }
      ],
      "source": [
        "type(train_predict)"
      ]
    },
    {
      "cell_type": "code",
      "execution_count": 107,
      "id": "bf6d5613",
      "metadata": {
        "id": "bf6d5613"
      },
      "outputs": [],
      "source": [
        "test = np.vstack((train_predict,test_predict))"
      ]
    },
    {
      "cell_type": "code",
      "execution_count": 108,
      "id": "41b272ff",
      "metadata": {
        "colab": {
          "base_uri": "https://localhost:8080/",
          "height": 282
        },
        "id": "41b272ff",
        "outputId": "b923f025-51f3-40e4-cc90-844a48ff576c"
      },
      "outputs": [
        {
          "output_type": "execute_result",
          "data": {
            "text/plain": [
              "[<matplotlib.lines.Line2D at 0x7fc809ab1650>]"
            ]
          },
          "metadata": {},
          "execution_count": 108
        },
        {
          "output_type": "display_data",
          "data": {
            "text/plain": [
              "<Figure size 432x288 with 1 Axes>"
            ],
            "image/png": "[encoded data removed]"
          },
          "metadata": {
            "needs_background": "light"
          }
        }
      ],
      "source": [
        "#Combining the predited data to create uniform data visualization\n",
        "plt.plot(normalizer.inverse_transform(ds_scaled))\n",
        "plt.plot(test)"
      ]
    }
  ],
  "metadata": {
    "kernelspec": {
      "display_name": "Python 3",
      "language": "python",
      "name": "python3"
    },
    "language_info": {
      "codemirror_mode": {
        "name": "ipython",
        "version": 3
      },
      "file_extension": ".py",
      "mimetype": "text/x-python",
      "name": "python",
      "nbconvert_exporter": "python",
      "pygments_lexer": "ipython3",
      "version": "3.7.10"
    },
    "colab": {
      "name": "Live_Stock_Prediction.ipynb",
      "provenance": [],
      "include_colab_link": true
    }
  },
  "nbformat": 4,
  "nbformat_minor": 5
}