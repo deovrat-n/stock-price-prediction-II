{
  "cells": [
    {
      "cell_type": "markdown",
      "metadata": {
        "id": "view-in-github",
        "colab_type": "text"
      },
      "source": [
        "<a href=\"https://colab.research.google.com/github/deovrat-n/stock-price-prediction-II/blob/main/NIFTY_STOCKS_PREDICTION_LSTM.ipynb\" target=\"_parent\"><img src=\"https://colab.research.google.com/assets/colab-badge.svg\" alt=\"Open In Colab\"/></a>"
      ]
    },
    {
      "cell_type": "markdown",
      "metadata": {
        "id": "pRGVvGX8FLtF"
      },
      "source": [
        "### Stock Market Prediction And Forecasting Using Stacked LSTM"
      ]
    },
    {
      "cell_type": "code",
      "execution_count": null,
      "metadata": {
        "id": "f6LFnE67FLtK"
      },
      "outputs": [],
      "source": [
        "### Keras and Tensorflow >2.0"
      ]
    },
    {
      "cell_type": "code",
      "execution_count": 3,
      "metadata": {
        "id": "DsMDf9hEFLtL"
      },
      "outputs": [],
      "source": [
        "### Data Collection\n",
        "import pandas_datareader as pdr\n"
      ]
    },
    {
      "cell_type": "code",
      "source": [
        "from google.colab import drive\n",
        "drive.mount('/content/drive')"
      ],
      "metadata": {
        "id": "UmRrNHCKHMRK",
        "outputId": "c8306855-045c-46a2-c108-be5df78deb24",
        "colab": {
          "base_uri": "https://localhost:8080/"
        }
      },
      "execution_count": null,
      "outputs": [
        {
          "output_type": "stream",
          "name": "stdout",
          "text": [
            "Mounted at /content/drive\n"
          ]
        }
      ]
    },
    {
      "cell_type": "code",
      "execution_count": 2,
      "metadata": {
        "id": "5rwVj2HhFLtN"
      },
      "outputs": [],
      "source": [
        "import pandas as pd"
      ]
    },
    {
      "cell_type": "code",
      "execution_count": 4,
      "metadata": {
        "id": "sNtgJqYrFLtN"
      },
      "outputs": [],
      "source": [
        "df=pd.read_csv('/content/drive/MyDrive/MLPROJECTS/ASIANPAINTS.csv')"
      ]
    },
    {
      "cell_type": "code",
      "execution_count": 5,
      "metadata": {
        "id": "24PiZFtjFLtO",
        "outputId": "58d656d7-a7b8-462f-d036-e37e9adadead",
        "colab": {
          "base_uri": "https://localhost:8080/",
          "height": 206
        }
      },
      "outputs": [
        {
          "output_type": "execute_result",
          "data": {
            "text/plain": [
              "         Date         Open         High     Low        Close    Adj Close  \\\n",
              "0  2017-08-14  1149.449951  1163.699951  1145.0  1154.000000  1114.454834   \n",
              "1  2017-08-16  1154.349976  1155.300049  1129.0  1141.300049  1102.190308   \n",
              "2  2017-08-17  1141.300049  1142.800049  1132.0  1134.949951  1096.057739   \n",
              "3  2017-08-18  1131.949951  1142.449951  1123.0  1140.000000  1100.934814   \n",
              "4  2017-08-21  1141.800049  1141.800049  1128.5  1134.449951  1095.574951   \n",
              "\n",
              "   Volume  \n",
              "0  511994  \n",
              "1  857454  \n",
              "2  494638  \n",
              "3  357491  \n",
              "4  456594  "
            ],
            "text/html": [
              "\n",
              "  <div id=\"df-b6e5b1f9-1544-4d51-b4fa-5f950c09e215\">\n",
              "    <div class=\"colab-df-container\">\n",
              "      <div>\n",
              "<style scoped>\n",
              "    .dataframe tbody tr th:only-of-type {\n",
              "        vertical-align: middle;\n",
              "    }\n",
              "\n",
              "    .dataframe tbody tr th {\n",
              "        vertical-align: top;\n",
              "    }\n",
              "\n",
              "    .dataframe thead th {\n",
              "        text-align: right;\n",
              "    }\n",
              "</style>\n",
              "<table border=\"1\" class=\"dataframe\">\n",
              "  <thead>\n",
              "    <tr style=\"text-align: right;\">\n",
              "      <th></th>\n",
              "      <th>Date</th>\n",
              "      <th>Open</th>\n",
              "      <th>High</th>\n",
              "      <th>Low</th>\n",
              "      <th>Close</th>\n",
              "      <th>Adj Close</th>\n",
              "      <th>Volume</th>\n",
              "    </tr>\n",
              "  </thead>\n",
              "  <tbody>\n",
              "    <tr>\n",
              "      <th>0</th>\n",
              "      <td>2017-08-14</td>\n",
              "      <td>1149.449951</td>\n",
              "      <td>1163.699951</td>\n",
              "      <td>1145.0</td>\n",
              "      <td>1154.000000</td>\n",
              "      <td>1114.454834</td>\n",
              "      <td>511994</td>\n",
              "    </tr>\n",
              "    <tr>\n",
              "      <th>1</th>\n",
              "      <td>2017-08-16</td>\n",
              "      <td>1154.349976</td>\n",
              "      <td>1155.300049</td>\n",
              "      <td>1129.0</td>\n",
              "      <td>1141.300049</td>\n",
              "      <td>1102.190308</td>\n",
              "      <td>857454</td>\n",
              "    </tr>\n",
              "    <tr>\n",
              "      <th>2</th>\n",
              "      <td>2017-08-17</td>\n",
              "      <td>1141.300049</td>\n",
              "      <td>1142.800049</td>\n",
              "      <td>1132.0</td>\n",
              "      <td>1134.949951</td>\n",
              "      <td>1096.057739</td>\n",
              "      <td>494638</td>\n",
              "    </tr>\n",
              "    <tr>\n",
              "      <th>3</th>\n",
              "      <td>2017-08-18</td>\n",
              "      <td>1131.949951</td>\n",
              "      <td>1142.449951</td>\n",
              "      <td>1123.0</td>\n",
              "      <td>1140.000000</td>\n",
              "      <td>1100.934814</td>\n",
              "      <td>357491</td>\n",
              "    </tr>\n",
              "    <tr>\n",
              "      <th>4</th>\n",
              "      <td>2017-08-21</td>\n",
              "      <td>1141.800049</td>\n",
              "      <td>1141.800049</td>\n",
              "      <td>1128.5</td>\n",
              "      <td>1134.449951</td>\n",
              "      <td>1095.574951</td>\n",
              "      <td>456594</td>\n",
              "    </tr>\n",
              "  </tbody>\n",
              "</table>\n",
              "</div>\n",
              "      <button class=\"colab-df-convert\" onclick=\"convertToInteractive('df-b6e5b1f9-1544-4d51-b4fa-5f950c09e215')\"\n",
              "              title=\"Convert this dataframe to an interactive table.\"\n",
              "              style=\"display:none;\">\n",
              "        \n",
              "  <svg xmlns=\"http://www.w3.org/2000/svg\" height=\"24px\"viewBox=\"0 0 24 24\"\n",
              "       width=\"24px\">\n",
              "    <path d=\"M0 0h24v24H0V0z\" fill=\"none\"/>\n",
              "    <path d=\"M18.56 5.44l.94 2.06.94-2.06 2.06-.94-2.06-.94-.94-2.06-.94 2.06-2.06.94zm-11 1L8.5 8.5l.94-2.06 2.06-.94-2.06-.94L8.5 2.5l-.94 2.06-2.06.94zm10 10l.94 2.06.94-2.06 2.06-.94-2.06-.94-.94-2.06-.94 2.06-2.06.94z\"/><path d=\"M17.41 7.96l-1.37-1.37c-.4-.4-.92-.59-1.43-.59-.52 0-1.04.2-1.43.59L10.3 9.45l-7.72 7.72c-.78.78-.78 2.05 0 2.83L4 21.41c.39.39.9.59 1.41.59.51 0 1.02-.2 1.41-.59l7.78-7.78 2.81-2.81c.8-.78.8-2.07 0-2.86zM5.41 20L4 18.59l7.72-7.72 1.47 1.35L5.41 20z\"/>\n",
              "  </svg>\n",
              "      </button>\n",
              "      \n",
              "  <style>\n",
              "    .colab-df-container {\n",
              "      display:flex;\n",
              "      flex-wrap:wrap;\n",
              "      gap: 12px;\n",
              "    }\n",
              "\n",
              "    .colab-df-convert {\n",
              "      background-color: #E8F0FE;\n",
              "      border: none;\n",
              "      border-radius: 50%;\n",
              "      cursor: pointer;\n",
              "      display: none;\n",
              "      fill: #1967D2;\n",
              "      height: 32px;\n",
              "      padding: 0 0 0 0;\n",
              "      width: 32px;\n",
              "    }\n",
              "\n",
              "    .colab-df-convert:hover {\n",
              "      background-color: #E2EBFA;\n",
              "      box-shadow: 0px 1px 2px rgba(60, 64, 67, 0.3), 0px 1px 3px 1px rgba(60, 64, 67, 0.15);\n",
              "      fill: #174EA6;\n",
              "    }\n",
              "\n",
              "    [theme=dark] .colab-df-convert {\n",
              "      background-color: #3B4455;\n",
              "      fill: #D2E3FC;\n",
              "    }\n",
              "\n",
              "    [theme=dark] .colab-df-convert:hover {\n",
              "      background-color: #434B5C;\n",
              "      box-shadow: 0px 1px 3px 1px rgba(0, 0, 0, 0.15);\n",
              "      filter: drop-shadow(0px 1px 2px rgba(0, 0, 0, 0.3));\n",
              "      fill: #FFFFFF;\n",
              "    }\n",
              "  </style>\n",
              "\n",
              "      <script>\n",
              "        const buttonEl =\n",
              "          document.querySelector('#df-b6e5b1f9-1544-4d51-b4fa-5f950c09e215 button.colab-df-convert');\n",
              "        buttonEl.style.display =\n",
              "          google.colab.kernel.accessAllowed ? 'block' : 'none';\n",
              "\n",
              "        async function convertToInteractive(key) {\n",
              "          const element = document.querySelector('#df-b6e5b1f9-1544-4d51-b4fa-5f950c09e215');\n",
              "          const dataTable =\n",
              "            await google.colab.kernel.invokeFunction('convertToInteractive',\n",
              "                                                     [key], {});\n",
              "          if (!dataTable) return;\n",
              "\n",
              "          const docLinkHtml = 'Like what you see? Visit the ' +\n",
              "            '<a target=\"_blank\" href=https://colab.research.google.com/notebooks/data_table.ipynb>data table notebook</a>'\n",
              "            + ' to learn more about interactive tables.';\n",
              "          element.innerHTML = '';\n",
              "          dataTable['output_type'] = 'display_data';\n",
              "          await google.colab.output.renderOutput(dataTable, element);\n",
              "          const docLink = document.createElement('div');\n",
              "          docLink.innerHTML = docLinkHtml;\n",
              "          element.appendChild(docLink);\n",
              "        }\n",
              "      </script>\n",
              "    </div>\n",
              "  </div>\n",
              "  "
            ]
          },
          "metadata": {},
          "execution_count": 5
        }
      ],
      "source": [
        "df.head()"
      ]
    },
    {
      "cell_type": "code",
      "execution_count": 6,
      "metadata": {
        "id": "gY0vIw-7FLtP",
        "outputId": "9039f7a3-568a-419a-fb1e-adf25ffb02ad",
        "colab": {
          "base_uri": "https://localhost:8080/",
          "height": 206
        }
      },
      "outputs": [
        {
          "output_type": "execute_result",
          "data": {
            "text/plain": [
              "            Date    Open         High          Low        Close    Adj Close  \\\n",
              "1231  2022-08-05  3475.0  3491.949951  3451.550049  3473.899902  3473.899902   \n",
              "1232  2022-08-08  3465.0  3476.949951  3436.550049  3458.449951  3458.449951   \n",
              "1233  2022-08-10  3441.0  3449.850098  3396.000000  3411.649902  3411.649902   \n",
              "1234  2022-08-11  3450.0  3477.949951  3390.000000  3405.199951  3405.199951   \n",
              "1235  2022-08-12  3399.0  3434.800049  3383.000000  3427.850098  3427.850098   \n",
              "\n",
              "       Volume  \n",
              "1231   792478  \n",
              "1232   724644  \n",
              "1233  1089295  \n",
              "1234  1410533  \n",
              "1235   548472  "
            ],
            "text/html": [
              "\n",
              "  <div id=\"df-fddf106b-af27-4d66-b6b4-ed18ad676675\">\n",
              "    <div class=\"colab-df-container\">\n",
              "      <div>\n",
              "<style scoped>\n",
              "    .dataframe tbody tr th:only-of-type {\n",
              "        vertical-align: middle;\n",
              "    }\n",
              "\n",
              "    .dataframe tbody tr th {\n",
              "        vertical-align: top;\n",
              "    }\n",
              "\n",
              "    .dataframe thead th {\n",
              "        text-align: right;\n",
              "    }\n",
              "</style>\n",
              "<table border=\"1\" class=\"dataframe\">\n",
              "  <thead>\n",
              "    <tr style=\"text-align: right;\">\n",
              "      <th></th>\n",
              "      <th>Date</th>\n",
              "      <th>Open</th>\n",
              "      <th>High</th>\n",
              "      <th>Low</th>\n",
              "      <th>Close</th>\n",
              "      <th>Adj Close</th>\n",
              "      <th>Volume</th>\n",
              "    </tr>\n",
              "  </thead>\n",
              "  <tbody>\n",
              "    <tr>\n",
              "      <th>1231</th>\n",
              "      <td>2022-08-05</td>\n",
              "      <td>3475.0</td>\n",
              "      <td>3491.949951</td>\n",
              "      <td>3451.550049</td>\n",
              "      <td>3473.899902</td>\n",
              "      <td>3473.899902</td>\n",
              "      <td>792478</td>\n",
              "    </tr>\n",
              "    <tr>\n",
              "      <th>1232</th>\n",
              "      <td>2022-08-08</td>\n",
              "      <td>3465.0</td>\n",
              "      <td>3476.949951</td>\n",
              "      <td>3436.550049</td>\n",
              "      <td>3458.449951</td>\n",
              "      <td>3458.449951</td>\n",
              "      <td>724644</td>\n",
              "    </tr>\n",
              "    <tr>\n",
              "      <th>1233</th>\n",
              "      <td>2022-08-10</td>\n",
              "      <td>3441.0</td>\n",
              "      <td>3449.850098</td>\n",
              "      <td>3396.000000</td>\n",
              "      <td>3411.649902</td>\n",
              "      <td>3411.649902</td>\n",
              "      <td>1089295</td>\n",
              "    </tr>\n",
              "    <tr>\n",
              "      <th>1234</th>\n",
              "      <td>2022-08-11</td>\n",
              "      <td>3450.0</td>\n",
              "      <td>3477.949951</td>\n",
              "      <td>3390.000000</td>\n",
              "      <td>3405.199951</td>\n",
              "      <td>3405.199951</td>\n",
              "      <td>1410533</td>\n",
              "    </tr>\n",
              "    <tr>\n",
              "      <th>1235</th>\n",
              "      <td>2022-08-12</td>\n",
              "      <td>3399.0</td>\n",
              "      <td>3434.800049</td>\n",
              "      <td>3383.000000</td>\n",
              "      <td>3427.850098</td>\n",
              "      <td>3427.850098</td>\n",
              "      <td>548472</td>\n",
              "    </tr>\n",
              "  </tbody>\n",
              "</table>\n",
              "</div>\n",
              "      <button class=\"colab-df-convert\" onclick=\"convertToInteractive('df-fddf106b-af27-4d66-b6b4-ed18ad676675')\"\n",
              "              title=\"Convert this dataframe to an interactive table.\"\n",
              "              style=\"display:none;\">\n",
              "        \n",
              "  <svg xmlns=\"http://www.w3.org/2000/svg\" height=\"24px\"viewBox=\"0 0 24 24\"\n",
              "       width=\"24px\">\n",
              "    <path d=\"M0 0h24v24H0V0z\" fill=\"none\"/>\n",
              "    <path d=\"M18.56 5.44l.94 2.06.94-2.06 2.06-.94-2.06-.94-.94-2.06-.94 2.06-2.06.94zm-11 1L8.5 8.5l.94-2.06 2.06-.94-2.06-.94L8.5 2.5l-.94 2.06-2.06.94zm10 10l.94 2.06.94-2.06 2.06-.94-2.06-.94-.94-2.06-.94 2.06-2.06.94z\"/><path d=\"M17.41 7.96l-1.37-1.37c-.4-.4-.92-.59-1.43-.59-.52 0-1.04.2-1.43.59L10.3 9.45l-7.72 7.72c-.78.78-.78 2.05 0 2.83L4 21.41c.39.39.9.59 1.41.59.51 0 1.02-.2 1.41-.59l7.78-7.78 2.81-2.81c.8-.78.8-2.07 0-2.86zM5.41 20L4 18.59l7.72-7.72 1.47 1.35L5.41 20z\"/>\n",
              "  </svg>\n",
              "      </button>\n",
              "      \n",
              "  <style>\n",
              "    .colab-df-container {\n",
              "      display:flex;\n",
              "      flex-wrap:wrap;\n",
              "      gap: 12px;\n",
              "    }\n",
              "\n",
              "    .colab-df-convert {\n",
              "      background-color: #E8F0FE;\n",
              "      border: none;\n",
              "      border-radius: 50%;\n",
              "      cursor: pointer;\n",
              "      display: none;\n",
              "      fill: #1967D2;\n",
              "      height: 32px;\n",
              "      padding: 0 0 0 0;\n",
              "      width: 32px;\n",
              "    }\n",
              "\n",
              "    .colab-df-convert:hover {\n",
              "      background-color: #E2EBFA;\n",
              "      box-shadow: 0px 1px 2px rgba(60, 64, 67, 0.3), 0px 1px 3px 1px rgba(60, 64, 67, 0.15);\n",
              "      fill: #174EA6;\n",
              "    }\n",
              "\n",
              "    [theme=dark] .colab-df-convert {\n",
              "      background-color: #3B4455;\n",
              "      fill: #D2E3FC;\n",
              "    }\n",
              "\n",
              "    [theme=dark] .colab-df-convert:hover {\n",
              "      background-color: #434B5C;\n",
              "      box-shadow: 0px 1px 3px 1px rgba(0, 0, 0, 0.15);\n",
              "      filter: drop-shadow(0px 1px 2px rgba(0, 0, 0, 0.3));\n",
              "      fill: #FFFFFF;\n",
              "    }\n",
              "  </style>\n",
              "\n",
              "      <script>\n",
              "        const buttonEl =\n",
              "          document.querySelector('#df-fddf106b-af27-4d66-b6b4-ed18ad676675 button.colab-df-convert');\n",
              "        buttonEl.style.display =\n",
              "          google.colab.kernel.accessAllowed ? 'block' : 'none';\n",
              "\n",
              "        async function convertToInteractive(key) {\n",
              "          const element = document.querySelector('#df-fddf106b-af27-4d66-b6b4-ed18ad676675');\n",
              "          const dataTable =\n",
              "            await google.colab.kernel.invokeFunction('convertToInteractive',\n",
              "                                                     [key], {});\n",
              "          if (!dataTable) return;\n",
              "\n",
              "          const docLinkHtml = 'Like what you see? Visit the ' +\n",
              "            '<a target=\"_blank\" href=https://colab.research.google.com/notebooks/data_table.ipynb>data table notebook</a>'\n",
              "            + ' to learn more about interactive tables.';\n",
              "          element.innerHTML = '';\n",
              "          dataTable['output_type'] = 'display_data';\n",
              "          await google.colab.output.renderOutput(dataTable, element);\n",
              "          const docLink = document.createElement('div');\n",
              "          docLink.innerHTML = docLinkHtml;\n",
              "          element.appendChild(docLink);\n",
              "        }\n",
              "      </script>\n",
              "    </div>\n",
              "  </div>\n",
              "  "
            ]
          },
          "metadata": {},
          "execution_count": 6
        }
      ],
      "source": [
        "df.tail()"
      ]
    },
    {
      "cell_type": "code",
      "execution_count": 8,
      "metadata": {
        "id": "kZxJ8rMlFLtQ"
      },
      "outputs": [],
      "source": [
        "df1=df.reset_index()['Close']"
      ]
    },
    {
      "cell_type": "code",
      "execution_count": 9,
      "metadata": {
        "id": "gYvCuvzNFLtQ",
        "outputId": "51641779-b473-42e6-dc97-5c8bde488f21",
        "colab": {
          "base_uri": "https://localhost:8080/"
        }
      },
      "outputs": [
        {
          "output_type": "execute_result",
          "data": {
            "text/plain": [
              "0       1154.000000\n",
              "1       1141.300049\n",
              "2       1134.949951\n",
              "3       1140.000000\n",
              "4       1134.449951\n",
              "           ...     \n",
              "1231    3473.899902\n",
              "1232    3458.449951\n",
              "1233    3411.649902\n",
              "1234    3405.199951\n",
              "1235    3427.850098\n",
              "Name: Close, Length: 1236, dtype: float64"
            ]
          },
          "metadata": {},
          "execution_count": 9
        }
      ],
      "source": [
        "df1"
      ]
    },
    {
      "cell_type": "code",
      "execution_count": 10,
      "metadata": {
        "id": "TyeS-TV-FLtR",
        "outputId": "3eccd4cc-72ae-4498-c0a9-300cb4e40071",
        "colab": {
          "base_uri": "https://localhost:8080/",
          "height": 282
        }
      },
      "outputs": [
        {
          "output_type": "execute_result",
          "data": {
            "text/plain": [
              "[<matplotlib.lines.Line2D at 0x7febed2b2e10>]"
            ]
          },
          "metadata": {},
          "execution_count": 10
        },
        {
          "output_type": "display_data",
          "data": {
            "text/plain": [
              "<Figure size 432x288 with 1 Axes>"
            ],
            "image/png": "[encoded data removed]"
          },
          "metadata": {
            "needs_background": "light"
          }
        }
      ],
      "source": [
        "import matplotlib.pyplot as plt\n",
        "plt.plot(df1)"
      ]
    },
    {
      "cell_type": "code",
      "execution_count": null,
      "metadata": {
        "id": "DJlsp_4vFLtR"
      },
      "outputs": [],
      "source": [
        "### LSTM are sensitive to the scale of the data. so we apply MinMax scaler "
      ]
    },
    {
      "cell_type": "code",
      "execution_count": 11,
      "metadata": {
        "id": "5KjZwHLuFLtS"
      },
      "outputs": [],
      "source": [
        "import numpy as np"
      ]
    },
    {
      "cell_type": "code",
      "execution_count": 12,
      "metadata": {
        "id": "Gvo7MwhEFLtS",
        "outputId": "1f8ad12b-7a76-4632-c1fd-66a382ed34cc",
        "colab": {
          "base_uri": "https://localhost:8080/"
        }
      },
      "outputs": [
        {
          "output_type": "execute_result",
          "data": {
            "text/plain": [
              "0       1154.000000\n",
              "1       1141.300049\n",
              "2       1134.949951\n",
              "3       1140.000000\n",
              "4       1134.449951\n",
              "           ...     \n",
              "1231    3473.899902\n",
              "1232    3458.449951\n",
              "1233    3411.649902\n",
              "1234    3405.199951\n",
              "1235    3427.850098\n",
              "Name: Close, Length: 1236, dtype: float64"
            ]
          },
          "metadata": {},
          "execution_count": 12
        }
      ],
      "source": [
        "df1"
      ]
    },
    {
      "cell_type": "code",
      "execution_count": 13,
      "metadata": {
        "id": "IHGYc8X2FLtS"
      },
      "outputs": [],
      "source": [
        "from sklearn.preprocessing import MinMaxScaler\n",
        "scaler=MinMaxScaler(feature_range=(0,1))\n",
        "df1=scaler.fit_transform(np.array(df1).reshape(-1,1))"
      ]
    },
    {
      "cell_type": "code",
      "execution_count": 14,
      "metadata": {
        "id": "i8J4UeodFLtS",
        "outputId": "1f9af60e-0154-45e4-e28f-d207d0d07856",
        "colab": {
          "base_uri": "https://localhost:8080/"
        }
      },
      "outputs": [
        {
          "output_type": "stream",
          "name": "stdout",
          "text": [
            "[[0.02117429]\n",
            " [0.01604238]\n",
            " [0.01347637]\n",
            " ...\n",
            " [0.93346663]\n",
            " [0.93086027]\n",
            " [0.94001295]]\n"
          ]
        }
      ],
      "source": [
        "print(df1)"
      ]
    },
    {
      "cell_type": "code",
      "execution_count": 15,
      "metadata": {
        "id": "cgTVsfnZFLtT"
      },
      "outputs": [],
      "source": [
        "##splitting dataset into train and test split\n",
        "training_size=int(len(df1)*0.65)\n",
        "test_size=len(df1)-training_size\n",
        "train_data,test_data=df1[0:training_size,:],df1[training_size:len(df1),:1]"
      ]
    },
    {
      "cell_type": "code",
      "execution_count": 17,
      "metadata": {
        "id": "EXzYM-DsFLtT",
        "outputId": "f6ba3daf-a542-4938-ccb2-956b181f9184",
        "colab": {
          "base_uri": "https://localhost:8080/"
        }
      },
      "outputs": [
        {
          "output_type": "execute_result",
          "data": {
            "text/plain": [
              "(803, 433)"
            ]
          },
          "metadata": {},
          "execution_count": 17
        }
      ],
      "source": [
        "training_size,test_size"
      ]
    },
    {
      "cell_type": "code",
      "execution_count": 18,
      "metadata": {
        "id": "G04UiRlKFLtT",
        "outputId": "69a2533c-7d6b-44e9-b5d0-07a5566d1017",
        "colab": {
          "base_uri": "https://localhost:8080/"
        }
      },
      "outputs": [
        {
          "output_type": "execute_result",
          "data": {
            "text/plain": [
              "array([[2.11742930e-02],\n",
              "       [1.60423777e-02],\n",
              "       [1.34763707e-02],\n",
              "       [1.55170418e-02],\n",
              "       [1.32743260e-02],\n",
              "       [1.12538792e-02],\n",
              "       [1.60423777e-02],\n",
              "       [1.37390387e-02],\n",
              "       [2.19420727e-02],\n",
              "       [2.02448677e-02],\n",
              "       [2.09116250e-02],\n",
              "       [2.70538131e-02],\n",
              "       [4.61874350e-02],\n",
              "       [3.85703602e-02],\n",
              "       [4.23283618e-02],\n",
              "       [4.22071646e-02],\n",
              "       [3.92168933e-02],\n",
              "       [4.13585374e-02],\n",
              "       [5.51380245e-02],\n",
              "       [6.25328304e-02],\n",
              "       [6.19670954e-02],\n",
              "       [5.83707395e-02],\n",
              "       [5.81484706e-02],\n",
              "       [6.23711848e-02],\n",
              "       [6.13003874e-02],\n",
              "       [5.48349575e-02],\n",
              "       [5.15213950e-02],\n",
              "       [4.51165883e-02],\n",
              "       [3.85299118e-02],\n",
              "       [2.92560804e-02],\n",
              "       [2.35988292e-02],\n",
              "       [1.14761480e-02],\n",
              "       [1.21630803e-02],\n",
              "       [1.90730480e-02],\n",
              "       [2.11945172e-02],\n",
              "       [2.08712260e-02],\n",
              "       [2.25078077e-02],\n",
              "       [2.30330942e-02],\n",
              "       [2.48110973e-02],\n",
              "       [2.38412730e-02],\n",
              "       [2.31139417e-02],\n",
              "       [2.93571028e-02],\n",
              "       [2.80640365e-02],\n",
              "       [3.86107593e-02],\n",
              "       [3.15391953e-02],\n",
              "       [3.10744826e-02],\n",
              "       [2.93167037e-02],\n",
              "       [4.90160606e-02],\n",
              "       [4.04493363e-02],\n",
              "       [3.61862230e-02],\n",
              "       [3.35192431e-02],\n",
              "       [3.27110643e-02],\n",
              "       [3.20240828e-02],\n",
              "       [3.00440350e-02],\n",
              "       [3.10340835e-02],\n",
              "       [2.86297222e-02],\n",
              "       [2.45484294e-02],\n",
              "       [1.61029516e-02],\n",
              "       [2.85286998e-02],\n",
              "       [3.79844010e-02],\n",
              "       [3.11148817e-02],\n",
              "       [2.96399456e-02],\n",
              "       [2.15986066e-02],\n",
              "       [3.23069749e-02],\n",
              "       [3.14987962e-02],\n",
              "       [2.81650589e-02],\n",
              "       [2.61647869e-02],\n",
              "       [2.37200758e-02],\n",
              "       [2.93773270e-02],\n",
              "       [2.34371836e-02],\n",
              "       [2.34371836e-02],\n",
              "       [2.21845164e-02],\n",
              "       [2.80438123e-02],\n",
              "       [2.11136697e-02],\n",
              "       [1.82446450e-02],\n",
              "       [1.29914832e-02],\n",
              "       [7.83934369e-03],\n",
              "       [5.41480746e-03],\n",
              "       [1.11124577e-03],\n",
              "       [1.72950449e-02],\n",
              "       [1.36986396e-02],\n",
              "       [9.79916729e-03],\n",
              "       [6.38463182e-03],\n",
              "       [6.04116572e-03],\n",
              "       [8.82934293e-03],\n",
              "       [6.90991841e-03],\n",
              "       [1.43653969e-02],\n",
              "       [1.45876165e-02],\n",
              "       [1.36986396e-02],\n",
              "       [1.46684640e-02],\n",
              "       [1.47088630e-02],\n",
              "       [1.98610025e-02],\n",
              "       [1.91740703e-02],\n",
              "       [1.72950449e-02],\n",
              "       [2.29926952e-02],\n",
              "       [1.69919778e-02],\n",
              "       [1.66282875e-02],\n",
              "       [1.62848214e-02],\n",
              "       [2.84681259e-02],\n",
              "       [3.38020859e-02],\n",
              "       [3.24887954e-02],\n",
              "       [3.69540027e-02],\n",
              "       [3.06299942e-02],\n",
              "       [3.52971968e-02],\n",
              "       [3.56002639e-02],\n",
              "       [4.13989858e-02],\n",
              "       [3.52163987e-02],\n",
              "       [3.72368456e-02],\n",
              "       [3.50143540e-02],\n",
              "       [3.56811113e-02],\n",
              "       [3.00642592e-02],\n",
              "       [2.75993239e-02],\n",
              "       [1.99822491e-02],\n",
              "       [1.97397560e-02],\n",
              "       [2.03863384e-02],\n",
              "       [1.01426334e-02],\n",
              "       [1.07892158e-02],\n",
              "       [2.07702036e-02],\n",
              "       [1.46684640e-02],\n",
              "       [1.31329046e-02],\n",
              "       [3.49538294e-03],\n",
              "       [7.87974277e-03],\n",
              "       [9.07183601e-03],\n",
              "       [1.17792151e-02],\n",
              "       [1.72950449e-02],\n",
              "       [1.51735757e-02],\n",
              "       [1.36784154e-02],\n",
              "       [1.70727760e-02],\n",
              "       [7.57667574e-03],\n",
              "       [1.00214362e-02],\n",
              "       [1.03446781e-02],\n",
              "       [6.66747465e-03],\n",
              "       [8.08474709e-05],\n",
              "       [1.29311559e-03],\n",
              "       [3.53578201e-03],\n",
              "       [6.52605323e-03],\n",
              "       [6.99076588e-03],\n",
              "       [1.75777891e-03],\n",
              "       [0.00000000e+00],\n",
              "       [2.28311482e-03],\n",
              "       [1.05063237e-02],\n",
              "       [1.11124577e-02],\n",
              "       [1.20822821e-02],\n",
              "       [1.56382883e-02],\n",
              "       [1.43047737e-02],\n",
              "       [2.39221205e-02],\n",
              "       [8.54650010e-03],\n",
              "       [3.83914500e-04],\n",
              "       [1.98004779e-03],\n",
              "       [7.88003873e-04],\n",
              "       [2.22249155e-03],\n",
              "       [4.46520730e-03],\n",
              "       [6.44525509e-03],\n",
              "       [1.19206365e-02],\n",
              "       [7.59689994e-03],\n",
              "       [1.96185588e-02],\n",
              "       [2.04065133e-02],\n",
              "       [1.39006843e-02],\n",
              "       [1.66889108e-02],\n",
              "       [1.69313546e-02],\n",
              "       [2.25683816e-02],\n",
              "       [2.22855388e-02],\n",
              "       [2.19218485e-02],\n",
              "       [2.57000742e-02],\n",
              "       [2.44878061e-02],\n",
              "       [3.12159040e-02],\n",
              "       [3.00642592e-02],\n",
              "       [2.85691482e-02],\n",
              "       [2.56192761e-02],\n",
              "       [2.33361613e-02],\n",
              "       [3.11552808e-02],\n",
              "       [2.76801220e-02],\n",
              "       [2.48313215e-02],\n",
              "       [2.18612252e-02],\n",
              "       [3.23271498e-02],\n",
              "       [4.04493363e-02],\n",
              "       [4.87736169e-02],\n",
              "       [4.24900074e-02],\n",
              "       [3.59033309e-02],\n",
              "       [4.59247671e-02],\n",
              "       [4.37628988e-02],\n",
              "       [4.88746392e-02],\n",
              "       [4.69147663e-02],\n",
              "       [7.46959107e-02],\n",
              "       [7.91004947e-02],\n",
              "       [8.60912606e-02],\n",
              "       [8.97482398e-02],\n",
              "       [8.39899662e-02],\n",
              "       [8.35454778e-02],\n",
              "       [8.08582736e-02],\n",
              "       [7.48575563e-02],\n",
              "       [7.15238190e-02],\n",
              "       [7.75851595e-02],\n",
              "       [7.70800478e-02],\n",
              "       [8.90006843e-02],\n",
              "       [7.99692967e-02],\n",
              "       [7.76861819e-02],\n",
              "       [8.20503668e-02],\n",
              "       [7.73629400e-02],\n",
              "       [7.38877319e-02],\n",
              "       [6.95033721e-02],\n",
              "       [6.51392365e-02],\n",
              "       [7.64537389e-02],\n",
              "       [7.16248413e-02],\n",
              "       [7.34230686e-02],\n",
              "       [7.52010224e-02],\n",
              "       [7.46757358e-02],\n",
              "       [7.45544892e-02],\n",
              "       [7.29785308e-02],\n",
              "       [7.29179569e-02],\n",
              "       [6.77253690e-02],\n",
              "       [6.85739961e-02],\n",
              "       [6.11791409e-02],\n",
              "       [6.71192349e-02],\n",
              "       [6.13609614e-02],\n",
              "       [6.99074615e-02],\n",
              "       [6.68970154e-02],\n",
              "       [6.74021271e-02],\n",
              "       [6.58059445e-02],\n",
              "       [7.73629400e-02],\n",
              "       [7.68780031e-02],\n",
              "       [7.60496495e-02],\n",
              "       [8.88188638e-02],\n",
              "       [8.95260202e-02],\n",
              "       [1.05669371e-01],\n",
              "       [1.08639418e-01],\n",
              "       [1.04335906e-01],\n",
              "       [1.03568126e-01],\n",
              "       [1.07568621e-01],\n",
              "       [1.04234883e-01],\n",
              "       [1.10983156e-01],\n",
              "       [1.17751653e-01],\n",
              "       [1.21792547e-01],\n",
              "       [1.19145742e-01],\n",
              "       [1.33996026e-01],\n",
              "       [1.47957334e-01],\n",
              "       [1.40845371e-01],\n",
              "       [1.34258694e-01],\n",
              "       [1.34662783e-01],\n",
              "       [1.32783758e-01],\n",
              "       [1.41350482e-01],\n",
              "       [1.35612384e-01],\n",
              "       [1.28015533e-01],\n",
              "       [1.25368728e-01],\n",
              "       [1.19529656e-01],\n",
              "       [1.30379446e-01],\n",
              "       [1.30985580e-01],\n",
              "       [1.27591219e-01],\n",
              "       [1.28096331e-01],\n",
              "       [1.20277212e-01],\n",
              "       [1.18600231e-01],\n",
              "       [1.18479034e-01],\n",
              "       [1.20842947e-01],\n",
              "       [1.24257482e-01],\n",
              "       [1.21913793e-01],\n",
              "       [1.18458809e-01],\n",
              "       [1.17953698e-01],\n",
              "       [1.20499481e-01],\n",
              "       [1.23610949e-01],\n",
              "       [1.18155742e-01],\n",
              "       [1.11973155e-01],\n",
              "       [1.09447597e-01],\n",
              "       [1.05063237e-01],\n",
              "       [8.47375710e-02],\n",
              "       [8.87784648e-02],\n",
              "       [8.60306373e-02],\n",
              "       [8.66367714e-02],\n",
              "       [7.73831149e-02],\n",
              "       [7.93025394e-02],\n",
              "       [7.65345370e-02],\n",
              "       [9.38699810e-02],\n",
              "       [8.36667243e-02],\n",
              "       [7.69790255e-02],\n",
              "       [7.66759585e-02],\n",
              "       [8.20907659e-02],\n",
              "       [6.88366148e-02],\n",
              "       [7.60900486e-02],\n",
              "       [7.28977327e-02],\n",
              "       [7.51202242e-02],\n",
              "       [7.74639623e-02],\n",
              "       [7.20087558e-02],\n",
              "       [6.06740292e-02],\n",
              "       [4.97433919e-02],\n",
              "       [4.36012532e-02],\n",
              "       [5.90778959e-02],\n",
              "       [4.03281391e-02],\n",
              "       [5.02485036e-02],\n",
              "       [4.74603264e-02],\n",
              "       [6.44926540e-02],\n",
              "       [6.00881193e-02],\n",
              "       [6.70788359e-02],\n",
              "       [6.36036771e-02],\n",
              "       [5.40671778e-02],\n",
              "       [3.99240497e-02],\n",
              "       [1.48906835e-02],\n",
              "       [3.44688432e-02],\n",
              "       [3.97826283e-02],\n",
              "       [3.58427569e-02],\n",
              "       [3.81662708e-02],\n",
              "       [3.82672932e-02],\n",
              "       [5.20467309e-02],\n",
              "       [4.69552147e-02],\n",
              "       [5.87546046e-02],\n",
              "       [5.75625607e-02],\n",
              "       [5.53198450e-02],\n",
              "       [6.03507379e-02],\n",
              "       [7.83933383e-02],\n",
              "       [7.16046664e-02],\n",
              "       [7.40696017e-02],\n",
              "       [8.84753977e-02],\n",
              "       [8.75661966e-02],\n",
              "       [8.87784648e-02],\n",
              "       [8.50810371e-02],\n",
              "       [8.29393437e-02],\n",
              "       [8.99502845e-02],\n",
              "       [8.59902382e-02],\n",
              "       [1.00173765e-01],\n",
              "       [9.61732707e-02],\n",
              "       [8.99705087e-02],\n",
              "       [1.00497057e-01],\n",
              "       [9.87392283e-02],\n",
              "       [9.58095804e-02],\n",
              "       [9.20717537e-02],\n",
              "       [9.20919779e-02],\n",
              "       [7.81912936e-02],\n",
              "       [8.77076181e-02],\n",
              "       [6.97458158e-02],\n",
              "       [8.97078407e-02],\n",
              "       [9.26577129e-02],\n",
              "       [8.83339270e-02],\n",
              "       [9.67187815e-02],\n",
              "       [9.46579355e-02],\n",
              "       [1.02679100e-01],\n",
              "       [1.20681301e-01],\n",
              "       [1.31005804e-01],\n",
              "       [1.15812004e-01],\n",
              "       [1.03224660e-01],\n",
              "       [1.05628972e-01],\n",
              "       [1.09467821e-01],\n",
              "       [1.06841240e-01],\n",
              "       [1.09690090e-01],\n",
              "       [1.09083956e-01],\n",
              "       [1.13832006e-01],\n",
              "       [1.15852453e-01],\n",
              "       [1.14862404e-01],\n",
              "       [1.18963921e-01],\n",
              "       [1.21085390e-01],\n",
              "       [1.21388457e-01],\n",
              "       [1.19105343e-01],\n",
              "       [1.22055215e-01],\n",
              "       [1.15973650e-01],\n",
              "       [1.22984591e-01],\n",
              "       [1.16438363e-01],\n",
              "       [1.16377739e-01],\n",
              "       [1.20762099e-01],\n",
              "       [1.29510644e-01],\n",
              "       [1.23388680e-01],\n",
              "       [1.19186190e-01],\n",
              "       [1.21327834e-01],\n",
              "       [1.09326399e-01],\n",
              "       [1.12296447e-01],\n",
              "       [1.17872900e-01],\n",
              "       [1.16701031e-01],\n",
              "       [1.25671795e-01],\n",
              "       [1.43694171e-01],\n",
              "       [1.39309811e-01],\n",
              "       [1.40926169e-01],\n",
              "       [1.48624091e-01],\n",
              "       [1.49856534e-01],\n",
              "       [1.40299860e-01],\n",
              "       [1.35571985e-01],\n",
              "       [1.41633325e-01],\n",
              "       [1.20256987e-01],\n",
              "       [1.17994097e-01],\n",
              "       [1.12518715e-01],\n",
              "       [1.11629689e-01],\n",
              "       [1.19327611e-01],\n",
              "       [1.19691302e-01],\n",
              "       [1.19691302e-01],\n",
              "       [1.19873122e-01],\n",
              "       [1.21388457e-01],\n",
              "       [1.22883568e-01],\n",
              "       [1.22681524e-01],\n",
              "       [1.17488985e-01],\n",
              "       [1.22136013e-01],\n",
              "       [1.18034496e-01],\n",
              "       [1.18741652e-01],\n",
              "       [1.13448091e-01],\n",
              "       [1.28581268e-01],\n",
              "       [1.31935180e-01],\n",
              "       [1.32016028e-01],\n",
              "       [1.34622384e-01],\n",
              "       [1.33733407e-01],\n",
              "       [1.39006744e-01],\n",
              "       [1.42360706e-01],\n",
              "       [1.43269907e-01],\n",
              "       [1.49371646e-01],\n",
              "       [1.43835642e-01],\n",
              "       [1.54948100e-01],\n",
              "       [1.49694938e-01],\n",
              "       [1.59776948e-01],\n",
              "       [1.58059568e-01],\n",
              "       [1.68788161e-01],\n",
              "       [1.60019392e-01],\n",
              "       [1.68666914e-01],\n",
              "       [1.66828288e-01],\n",
              "       [1.59514280e-01],\n",
              "       [1.38703677e-01],\n",
              "       [1.24560549e-01],\n",
              "       [1.29934957e-01],\n",
              "       [1.36198343e-01],\n",
              "       [1.33329318e-01],\n",
              "       [1.44421552e-01],\n",
              "       [1.48704889e-01],\n",
              "       [1.38097543e-01],\n",
              "       [1.33107049e-01],\n",
              "       [1.40804971e-01],\n",
              "       [1.39956344e-01],\n",
              "       [1.40279636e-01],\n",
              "       [1.46098532e-01],\n",
              "       [1.35369940e-01],\n",
              "       [1.36157944e-01],\n",
              "       [1.25752642e-01],\n",
              "       [1.15650408e-01],\n",
              "       [1.14801781e-01],\n",
              "       [1.02072966e-01],\n",
              "       [9.67592299e-02],\n",
              "       [9.33042460e-02],\n",
              "       [8.83541512e-02],\n",
              "       [8.25756534e-02],\n",
              "       [8.19493445e-02],\n",
              "       [8.82531288e-02],\n",
              "       [1.10053731e-01],\n",
              "       [1.03507503e-01],\n",
              "       [1.07831239e-01],\n",
              "       [1.07548396e-01],\n",
              "       [1.14316893e-01],\n",
              "       [1.07184706e-01],\n",
              "       [1.06174483e-01],\n",
              "       [1.03709547e-01],\n",
              "       [1.10316399e-01],\n",
              "       [1.23530151e-01],\n",
              "       [1.44522574e-01],\n",
              "       [1.29268200e-01],\n",
              "       [1.32117050e-01],\n",
              "       [1.27995309e-01],\n",
              "       [1.29712689e-01],\n",
              "       [1.30884558e-01],\n",
              "       [1.30864333e-01],\n",
              "       [1.32480691e-01],\n",
              "       [1.25732418e-01],\n",
              "       [1.21368233e-01],\n",
              "       [1.12518715e-01],\n",
              "       [1.12963204e-01],\n",
              "       [1.17367788e-01],\n",
              "       [1.13710759e-01],\n",
              "       [1.10942757e-01],\n",
              "       [1.05669371e-01],\n",
              "       [1.04396480e-01],\n",
              "       [1.04982439e-01],\n",
              "       [1.03669148e-01],\n",
              "       [1.01931544e-01],\n",
              "       [9.86584302e-02],\n",
              "       [1.01183989e-01],\n",
              "       [1.04295457e-01],\n",
              "       [1.03891368e-01],\n",
              "       [9.64359386e-02],\n",
              "       [8.86572182e-02],\n",
              "       [8.94451728e-02],\n",
              "       [9.32840218e-02],\n",
              "       [1.05204658e-01],\n",
              "       [1.01648701e-01],\n",
              "       [1.09387023e-01],\n",
              "       [1.18923522e-01],\n",
              "       [1.14498714e-01],\n",
              "       [1.08093907e-01],\n",
              "       [1.22277434e-01],\n",
              "       [1.32440292e-01],\n",
              "       [1.54281342e-01],\n",
              "       [1.59312235e-01],\n",
              "       [1.71677360e-01],\n",
              "       [1.66343400e-01],\n",
              "       [1.64524998e-01],\n",
              "       [1.69515492e-01],\n",
              "       [1.62888416e-01],\n",
              "       [1.79254036e-01],\n",
              "       [1.71253096e-01],\n",
              "       [1.87598491e-01],\n",
              "       [1.84911287e-01],\n",
              "       [1.87618715e-01],\n",
              "       [1.91497964e-01],\n",
              "       [1.90629162e-01],\n",
              "       [1.89154225e-01],\n",
              "       [2.00367706e-01],\n",
              "       [1.95922722e-01],\n",
              "       [1.99438330e-01],\n",
              "       [1.97013793e-01],\n",
              "       [1.89356270e-01],\n",
              "       [1.93478011e-01],\n",
              "       [2.00408154e-01],\n",
              "       [2.01175884e-01],\n",
              "       [2.02671045e-01],\n",
              "       [2.07560516e-01],\n",
              "       [2.07944381e-01],\n",
              "       [1.92003075e-01],\n",
              "       [1.75192967e-01],\n",
              "       [1.68969981e-01],\n",
              "       [1.74081721e-01],\n",
              "       [1.77395235e-01],\n",
              "       [1.85820488e-01],\n",
              "       [1.77274037e-01],\n",
              "       [1.80466304e-01],\n",
              "       [1.69596339e-01],\n",
              "       [1.73475587e-01],\n",
              "       [1.80284483e-01],\n",
              "       [1.82769643e-01],\n",
              "       [2.30088499e-01],\n",
              "       [2.83327273e-01],\n",
              "       [2.68436590e-01],\n",
              "       [2.62738940e-01],\n",
              "       [2.70477212e-01],\n",
              "       [2.72639129e-01],\n",
              "       [2.66921255e-01],\n",
              "       [2.68517388e-01],\n",
              "       [2.61587245e-01],\n",
              "       [2.51666881e-01],\n",
              "       [2.51969948e-01],\n",
              "       [2.71487435e-01],\n",
              "       [2.73568505e-01],\n",
              "       [2.78276156e-01],\n",
              "       [2.81690692e-01],\n",
              "       [2.83468695e-01],\n",
              "       [2.68355742e-01],\n",
              "       [2.87186347e-01],\n",
              "       [2.88984525e-01],\n",
              "       [2.74215038e-01],\n",
              "       [2.69042724e-01],\n",
              "       [2.78377179e-01],\n",
              "       [2.80720917e-01],\n",
              "       [2.79225756e-01],\n",
              "       [2.87974301e-01],\n",
              "       [2.90823151e-01],\n",
              "       [2.86095276e-01],\n",
              "       [2.68618410e-01],\n",
              "       [2.76518377e-01],\n",
              "       [2.79730868e-01],\n",
              "       [2.81246203e-01],\n",
              "       [2.93106217e-01],\n",
              "       [2.80134958e-01],\n",
              "       [2.71689480e-01],\n",
              "       [2.70275167e-01],\n",
              "       [2.70840902e-01],\n",
              "       [2.66335296e-01],\n",
              "       [2.57566576e-01],\n",
              "       [2.50434389e-01],\n",
              "       [2.51303191e-01],\n",
              "       [2.50030299e-01],\n",
              "       [2.34836549e-01],\n",
              "       [2.46130827e-01],\n",
              "       [2.45969231e-01],\n",
              "       [2.48009852e-01],\n",
              "       [2.47706785e-01],\n",
              "       [2.44292250e-01],\n",
              "       [2.57263509e-01],\n",
              "       [2.56536128e-01],\n",
              "       [2.50010124e-01],\n",
              "       [2.48211897e-01],\n",
              "       [2.48535188e-01],\n",
              "       [2.52454836e-01],\n",
              "       [2.47120876e-01],\n",
              "       [2.57243285e-01],\n",
              "       [2.62274227e-01],\n",
              "       [2.59566799e-01],\n",
              "       [2.54515681e-01],\n",
              "       [2.60152758e-01],\n",
              "       [2.73507882e-01],\n",
              "       [2.83468695e-01],\n",
              "       [2.81912961e-01],\n",
              "       [2.85266922e-01],\n",
              "       [2.83610116e-01],\n",
              "       [2.86095276e-01],\n",
              "       [2.87166123e-01],\n",
              "       [2.83145453e-01],\n",
              "       [2.76134463e-01],\n",
              "       [2.79468200e-01],\n",
              "       [2.78437802e-01],\n",
              "       [2.62577294e-01],\n",
              "       [2.44696339e-01],\n",
              "       [2.51666881e-01],\n",
              "       [2.53444884e-01],\n",
              "       [2.71123794e-01],\n",
              "       [2.79205582e-01],\n",
              "       [2.84196075e-01],\n",
              "       [2.89954349e-01],\n",
              "       [2.99288804e-01],\n",
              "       [2.96419779e-01],\n",
              "       [2.94358933e-01],\n",
              "       [3.01915385e-01],\n",
              "       [2.86559988e-01],\n",
              "       [2.73831173e-01],\n",
              "       [2.72558282e-01],\n",
              "       [2.76882068e-01],\n",
              "       [2.77508377e-01],\n",
              "       [2.73770550e-01],\n",
              "       [2.80983535e-01],\n",
              "       [2.84236475e-01],\n",
              "       [2.80458249e-01],\n",
              "       [3.09552684e-01],\n",
              "       [3.19109407e-01],\n",
              "       [3.11916597e-01],\n",
              "       [3.05168324e-01],\n",
              "       [3.05936054e-01],\n",
              "       [3.10300239e-01],\n",
              "       [3.13775398e-01],\n",
              "       [3.20079182e-01],\n",
              "       [3.12138865e-01],\n",
              "       [3.13351134e-01],\n",
              "       [3.15108912e-01],\n",
              "       [3.07936326e-01],\n",
              "       [3.16523225e-01],\n",
              "       [2.99288804e-01],\n",
              "       [2.89873502e-01],\n",
              "       [2.92762750e-01],\n",
              "       [2.92985019e-01],\n",
              "       [2.99915162e-01],\n",
              "       [2.81387625e-01],\n",
              "       [2.76882068e-01],\n",
              "       [2.82438297e-01],\n",
              "       [3.01592093e-01],\n",
              "       [3.12300462e-01],\n",
              "       [3.13512730e-01],\n",
              "       [3.09350639e-01],\n",
              "       [3.15694822e-01],\n",
              "       [2.99733292e-01],\n",
              "       [2.81286602e-01],\n",
              "       [2.35099217e-01],\n",
              "       [2.54576305e-01],\n",
              "       [2.08752560e-01],\n",
              "       [2.01883041e-01],\n",
              "       [2.59162709e-01],\n",
              "       [1.60362858e-01],\n",
              "       [1.71030827e-01],\n",
              "       [1.98630151e-01],\n",
              "       [2.08247448e-01],\n",
              "       [2.03075134e-01],\n",
              "       [1.99357482e-01],\n",
              "       [2.28270096e-01],\n",
              "       [2.02691219e-01],\n",
              "       [1.69434694e-01],\n",
              "       [2.11015500e-01],\n",
              "       [2.05014733e-01],\n",
              "       [2.22148133e-01],\n",
              "       [2.34068769e-01],\n",
              "       [2.49161497e-01],\n",
              "       [2.59223333e-01],\n",
              "       [2.64537118e-01],\n",
              "       [2.54111592e-01],\n",
              "       [2.52313414e-01],\n",
              "       [2.87469190e-01],\n",
              "       [2.90964572e-01],\n",
              "       [2.93348710e-01],\n",
              "       [3.02966007e-01],\n",
              "       [2.92075818e-01],\n",
              "       [2.69083123e-01],\n",
              "       [2.65527117e-01],\n",
              "       [2.32432237e-01],\n",
              "       [2.09136475e-01],\n",
              "       [2.05701715e-01],\n",
              "       [1.99094863e-01],\n",
              "       [1.92669833e-01],\n",
              "       [1.89113826e-01],\n",
              "       [1.70424693e-01],\n",
              "       [1.86568093e-01],\n",
              "       [1.70040828e-01],\n",
              "       [1.82385728e-01],\n",
              "       [1.61433704e-01],\n",
              "       [1.62585349e-01],\n",
              "       [1.61009440e-01],\n",
              "       [1.91013076e-01],\n",
              "       [2.08631363e-01],\n",
              "       [2.13460211e-01],\n",
              "       [2.09257672e-01],\n",
              "       [2.19016440e-01],\n",
              "       [2.34977970e-01],\n",
              "       [2.39079487e-01],\n",
              "       [2.45565141e-01],\n",
              "       [2.48494789e-01],\n",
              "       [2.15036170e-01],\n",
              "       [2.16975818e-01],\n",
              "       [2.15238214e-01],\n",
              "       [2.18390131e-01],\n",
              "       [2.15925146e-01],\n",
              "       [2.05681491e-01],\n",
              "       [2.16490881e-01],\n",
              "       [2.08752560e-01],\n",
              "       [2.10166873e-01],\n",
              "       [1.99539352e-01],\n",
              "       [2.00509176e-01],\n",
              "       [2.10490164e-01],\n",
              "       [2.22471424e-01],\n",
              "       [2.35301261e-01],\n",
              "       [2.60900313e-01],\n",
              "       [2.37362107e-01],\n",
              "       [2.36452906e-01],\n",
              "       [2.38554151e-01],\n",
              "       [2.36735749e-01],\n",
              "       [2.36958018e-01],\n",
              "       [2.36331660e-01],\n",
              "       [2.40049312e-01],\n",
              "       [2.45383272e-01],\n",
              "       [2.60294179e-01],\n",
              "       [2.36250862e-01],\n",
              "       [2.48777632e-01],\n",
              "       [2.43221403e-01],\n",
              "       [2.44090205e-01],\n",
              "       [2.37119664e-01],\n",
              "       [2.30351167e-01],\n",
              "       [2.39059263e-01],\n",
              "       [2.49040300e-01],\n",
              "       [2.62658092e-01],\n",
              "       [2.51606258e-01],\n",
              "       [2.40089711e-01],\n",
              "       [2.53040795e-01],\n",
              "       [2.46676387e-01],\n",
              "       [2.73386685e-01],\n",
              "       [2.65911031e-01],\n",
              "       [2.58031289e-01],\n",
              "       [2.59324355e-01],\n",
              "       [2.48070476e-01],\n",
              "       [2.44029582e-01],\n",
              "       [2.47444117e-01],\n",
              "       [2.48393767e-01],\n",
              "       [2.52939772e-01],\n",
              "       [2.84741586e-01],\n",
              "       [2.75083840e-01],\n",
              "       [2.77993313e-01],\n",
              "       [2.81104782e-01],\n",
              "       [2.83246475e-01],\n",
              "       [2.83246475e-01],\n",
              "       [2.97046088e-01],\n",
              "       [3.12159040e-01],\n",
              "       [3.16846467e-01],\n",
              "       [3.12482332e-01],\n",
              "       [3.46062149e-01],\n",
              "       [3.47739129e-01],\n",
              "       [3.63276346e-01],\n",
              "       [3.51476956e-01],\n",
              "       [3.55962338e-01],\n",
              "       [3.46102548e-01],\n",
              "       [3.22261275e-01],\n",
              "       [3.54669272e-01],\n",
              "       [3.40384673e-01],\n",
              "       [3.54143936e-01],\n",
              "       [3.45395391e-01],\n",
              "       [3.55800693e-01],\n",
              "       [3.47011749e-01],\n",
              "       [3.54568250e-01],\n",
              "       [3.85885176e-01],\n",
              "       [3.77560895e-01],\n",
              "       [3.75641471e-01],\n",
              "       [3.70125690e-01],\n",
              "       [3.67923374e-01],\n",
              "       [3.66246393e-01],\n",
              "       [3.74510050e-01],\n",
              "       [3.51941669e-01],\n",
              "       [3.37778316e-01],\n",
              "       [3.41435345e-01],\n",
              "       [3.30039995e-01],\n",
              "       [3.32969643e-01],\n",
              "       [3.41051430e-01],\n",
              "       [3.46850103e-01],\n",
              "       [3.57538297e-01],\n",
              "       [3.79379298e-01],\n",
              "       [3.74348405e-01],\n",
              "       [3.99401946e-01],\n",
              "       [4.05463286e-01],\n",
              "       [3.98856386e-01],\n",
              "       [3.83480864e-01],\n",
              "       [3.94492299e-01],\n",
              "       [3.89158241e-01],\n",
              "       [3.91865718e-01],\n",
              "       [3.99583766e-01],\n",
              "       [3.87764152e-01],\n",
              "       [3.91360607e-01],\n",
              "       [4.10918493e-01],\n",
              "       [4.09221337e-01],\n",
              "       [4.03402391e-01],\n",
              "       [4.11625649e-01],\n",
              "       [3.95542873e-01],\n",
              "       [4.42962800e-01],\n",
              "       [4.27506381e-01],\n",
              "       [4.54135832e-01],\n",
              "       [4.48498805e-01],\n",
              "       [4.32880790e-01],\n",
              "       [4.25526284e-01],\n",
              "       [4.31506827e-01],\n",
              "       [4.59328419e-01],\n",
              "       [4.47508805e-01],\n",
              "       [4.54034809e-01],\n",
              "       [4.43750754e-01],\n",
              "       [4.36456921e-01],\n",
              "       [4.32456476e-01],\n",
              "       [4.35749765e-01]])"
            ]
          },
          "metadata": {},
          "execution_count": 18
        }
      ],
      "source": [
        "train_data"
      ]
    },
    {
      "cell_type": "code",
      "execution_count": 19,
      "metadata": {
        "id": "MdKcpFYOFLtU"
      },
      "outputs": [],
      "source": [
        "import numpy\n",
        "# convert an array of values into a dataset matrix\n",
        "def create_dataset(dataset, time_step=1):\n",
        "\tdataX, dataY = [], []\n",
        "\tfor i in range(len(dataset)-time_step-1):\n",
        "\t\ta = dataset[i:(i+time_step), 0]   ###i=0, 0,1,2,3-----99   100 \n",
        "\t\tdataX.append(a)\n",
        "\t\tdataY.append(dataset[i + time_step, 0])\n",
        "\treturn numpy.array(dataX), numpy.array(dataY)"
      ]
    },
    {
      "cell_type": "code",
      "execution_count": 20,
      "metadata": {
        "id": "1DmcEqv_FLtU"
      },
      "outputs": [],
      "source": [
        "# reshape into X=t,t+1,t+2,t+3 and Y=t+4\n",
        "time_step = 100\n",
        "X_train, y_train = create_dataset(train_data, time_step)\n",
        "X_test, ytest = create_dataset(test_data, time_step)"
      ]
    },
    {
      "cell_type": "code",
      "execution_count": 21,
      "metadata": {
        "id": "_TW_JjZgFLtV",
        "outputId": "a344ded1-ddf5-4a85-9426-64d91519222d",
        "colab": {
          "base_uri": "https://localhost:8080/"
        }
      },
      "outputs": [
        {
          "output_type": "stream",
          "name": "stdout",
          "text": [
            "(702, 100)\n",
            "(702,)\n"
          ]
        },
        {
          "output_type": "execute_result",
          "data": {
            "text/plain": [
              "(None, None)"
            ]
          },
          "metadata": {},
          "execution_count": 21
        }
      ],
      "source": [
        "print(X_train.shape), print(y_train.shape)"
      ]
    },
    {
      "cell_type": "code",
      "execution_count": 22,
      "metadata": {
        "id": "tBz9Ur5ZFLtV",
        "outputId": "ca242989-2d2d-441c-c9cb-f360914aaf71",
        "colab": {
          "base_uri": "https://localhost:8080/"
        }
      },
      "outputs": [
        {
          "output_type": "stream",
          "name": "stdout",
          "text": [
            "(332, 100)\n",
            "(332,)\n"
          ]
        },
        {
          "output_type": "execute_result",
          "data": {
            "text/plain": [
              "(None, None)"
            ]
          },
          "metadata": {},
          "execution_count": 22
        }
      ],
      "source": [
        "print(X_test.shape), print(ytest.shape)"
      ]
    },
    {
      "cell_type": "code",
      "execution_count": 23,
      "metadata": {
        "id": "mtE9F6-oFLtV"
      },
      "outputs": [],
      "source": [
        "# reshape input to be [samples, time steps, features] which is required for LSTM\n",
        "X_train =X_train.reshape(X_train.shape[0],X_train.shape[1] , 1)\n",
        "X_test = X_test.reshape(X_test.shape[0],X_test.shape[1] , 1)"
      ]
    },
    {
      "cell_type": "code",
      "execution_count": 24,
      "metadata": {
        "id": "6d89IgI_FLtV"
      },
      "outputs": [],
      "source": [
        "### Create the Stacked LSTM model\n",
        "from tensorflow.keras.models import Sequential\n",
        "from tensorflow.keras.layers import Dense\n",
        "from tensorflow.keras.layers import LSTM"
      ]
    },
    {
      "cell_type": "code",
      "execution_count": 25,
      "metadata": {
        "id": "e_lil8g1FLtW"
      },
      "outputs": [],
      "source": [
        "model=Sequential()\n",
        "model.add(LSTM(50,return_sequences=True,input_shape=(100,1)))\n",
        "model.add(LSTM(50,return_sequences=True))\n",
        "model.add(LSTM(50))\n",
        "model.add(Dense(1))\n",
        "model.compile(loss='mean_squared_error',optimizer='adam')\n",
        " "
      ]
    },
    {
      "cell_type": "code",
      "execution_count": 26,
      "metadata": {
        "id": "dmTLRNNgFLtW",
        "outputId": "9f306937-4bc4-4966-c8de-ff2162a3890d",
        "colab": {
          "base_uri": "https://localhost:8080/"
        }
      },
      "outputs": [
        {
          "output_type": "stream",
          "name": "stdout",
          "text": [
            "Model: \"sequential\"\n",
            "_________________________________________________________________\n",
            " Layer (type)                Output Shape              Param #   \n",
            "=================================================================\n",
            " lstm (LSTM)                 (None, 100, 50)           10400     \n",
            "                                                                 \n",
            " lstm_1 (LSTM)               (None, 100, 50)           20200     \n",
            "                                                                 \n",
            " lstm_2 (LSTM)               (None, 50)                20200     \n",
            "                                                                 \n",
            " dense (Dense)               (None, 1)                 51        \n",
            "                                                                 \n",
            "=================================================================\n",
            "Total params: 50,851\n",
            "Trainable params: 50,851\n",
            "Non-trainable params: 0\n",
            "_________________________________________________________________\n"
          ]
        }
      ],
      "source": [
        "model.summary()"
      ]
    },
    {
      "cell_type": "code",
      "execution_count": 27,
      "metadata": {
        "id": "gZpEgBH6FLtW",
        "outputId": "7e8465ff-449a-462d-8848-15a9a3953e4c",
        "colab": {
          "base_uri": "https://localhost:8080/"
        }
      },
      "outputs": [
        {
          "output_type": "stream",
          "name": "stdout",
          "text": [
            "Model: \"sequential\"\n",
            "_________________________________________________________________\n",
            " Layer (type)                Output Shape              Param #   \n",
            "=================================================================\n",
            " lstm (LSTM)                 (None, 100, 50)           10400     \n",
            "                                                                 \n",
            " lstm_1 (LSTM)               (None, 100, 50)           20200     \n",
            "                                                                 \n",
            " lstm_2 (LSTM)               (None, 50)                20200     \n",
            "                                                                 \n",
            " dense (Dense)               (None, 1)                 51        \n",
            "                                                                 \n",
            "=================================================================\n",
            "Total params: 50,851\n",
            "Trainable params: 50,851\n",
            "Non-trainable params: 0\n",
            "_________________________________________________________________\n"
          ]
        }
      ],
      "source": [
        "model.summary()"
      ]
    },
    {
      "cell_type": "code",
      "execution_count": 27,
      "metadata": {
        "id": "YXLktykfFLtW"
      },
      "outputs": [],
      "source": [
        ""
      ]
    },
    {
      "cell_type": "code",
      "execution_count": 28,
      "metadata": {
        "id": "KJw7Yb8jFLtX",
        "outputId": "c469f29b-a7ba-46e1-c52f-3a6438fa4473",
        "colab": {
          "base_uri": "https://localhost:8080/"
        }
      },
      "outputs": [
        {
          "output_type": "stream",
          "name": "stdout",
          "text": [
            "Epoch 1/100\n",
            "11/11 [==============================] - 9s 323ms/step - loss: 0.0123 - val_loss: 0.1069\n",
            "Epoch 2/100\n",
            "11/11 [==============================] - 2s 201ms/step - loss: 0.0029 - val_loss: 0.0040\n",
            "Epoch 3/100\n",
            "11/11 [==============================] - 2s 208ms/step - loss: 0.0012 - val_loss: 0.0042\n",
            "Epoch 4/100\n",
            "11/11 [==============================] - 2s 201ms/step - loss: 9.2377e-04 - val_loss: 0.0045\n",
            "Epoch 5/100\n",
            "11/11 [==============================] - 2s 195ms/step - loss: 8.3652e-04 - val_loss: 0.0053\n",
            "Epoch 6/100\n",
            "11/11 [==============================] - 2s 205ms/step - loss: 8.6102e-04 - val_loss: 0.0040\n",
            "Epoch 7/100\n",
            "11/11 [==============================] - 2s 200ms/step - loss: 8.3006e-04 - val_loss: 0.0037\n",
            "Epoch 8/100\n",
            "11/11 [==============================] - 2s 199ms/step - loss: 7.9261e-04 - val_loss: 0.0037\n",
            "Epoch 9/100\n",
            "11/11 [==============================] - 2s 204ms/step - loss: 7.6632e-04 - val_loss: 0.0041\n",
            "Epoch 10/100\n",
            "11/11 [==============================] - 4s 337ms/step - loss: 7.8408e-04 - val_loss: 0.0048\n",
            "Epoch 11/100\n",
            "11/11 [==============================] - 2s 208ms/step - loss: 7.9433e-04 - val_loss: 0.0059\n",
            "Epoch 12/100\n",
            "11/11 [==============================] - 2s 198ms/step - loss: 7.6689e-04 - val_loss: 0.0072\n",
            "Epoch 13/100\n",
            "11/11 [==============================] - 2s 201ms/step - loss: 7.5623e-04 - val_loss: 0.0052\n",
            "Epoch 14/100\n",
            "11/11 [==============================] - 2s 198ms/step - loss: 7.3070e-04 - val_loss: 0.0050\n",
            "Epoch 15/100\n",
            "11/11 [==============================] - 2s 196ms/step - loss: 6.9252e-04 - val_loss: 0.0050\n",
            "Epoch 16/100\n",
            "11/11 [==============================] - 2s 202ms/step - loss: 6.8749e-04 - val_loss: 0.0085\n",
            "Epoch 17/100\n",
            "11/11 [==============================] - 2s 196ms/step - loss: 7.4734e-04 - val_loss: 0.0048\n",
            "Epoch 18/100\n",
            "11/11 [==============================] - 2s 199ms/step - loss: 6.6959e-04 - val_loss: 0.0041\n",
            "Epoch 19/100\n",
            "11/11 [==============================] - 2s 199ms/step - loss: 6.4332e-04 - val_loss: 0.0035\n",
            "Epoch 20/100\n",
            "11/11 [==============================] - 2s 198ms/step - loss: 6.2736e-04 - val_loss: 0.0048\n",
            "Epoch 21/100\n",
            "11/11 [==============================] - 2s 201ms/step - loss: 6.1381e-04 - val_loss: 0.0063\n",
            "Epoch 22/100\n",
            "11/11 [==============================] - 2s 204ms/step - loss: 6.0889e-04 - val_loss: 0.0057\n",
            "Epoch 23/100\n",
            "11/11 [==============================] - 2s 202ms/step - loss: 6.2064e-04 - val_loss: 0.0036\n",
            "Epoch 24/100\n",
            "11/11 [==============================] - 2s 197ms/step - loss: 5.8531e-04 - val_loss: 0.0029\n",
            "Epoch 25/100\n",
            "11/11 [==============================] - 3s 250ms/step - loss: 6.0049e-04 - val_loss: 0.0044\n",
            "Epoch 26/100\n",
            "11/11 [==============================] - 2s 200ms/step - loss: 5.6350e-04 - val_loss: 0.0047\n",
            "Epoch 27/100\n",
            "11/11 [==============================] - 2s 203ms/step - loss: 5.4104e-04 - val_loss: 0.0030\n",
            "Epoch 28/100\n",
            "11/11 [==============================] - 2s 201ms/step - loss: 5.2742e-04 - val_loss: 0.0032\n",
            "Epoch 29/100\n",
            "11/11 [==============================] - 2s 197ms/step - loss: 5.2694e-04 - val_loss: 0.0026\n",
            "Epoch 30/100\n",
            "11/11 [==============================] - 2s 199ms/step - loss: 5.5975e-04 - val_loss: 0.0063\n",
            "Epoch 31/100\n",
            "11/11 [==============================] - 2s 199ms/step - loss: 5.4568e-04 - val_loss: 0.0023\n",
            "Epoch 32/100\n",
            "11/11 [==============================] - 2s 201ms/step - loss: 5.1522e-04 - val_loss: 0.0019\n",
            "Epoch 33/100\n",
            "11/11 [==============================] - 2s 199ms/step - loss: 4.8118e-04 - val_loss: 0.0020\n",
            "Epoch 34/100\n",
            "11/11 [==============================] - 2s 196ms/step - loss: 5.5454e-04 - val_loss: 0.0035\n",
            "Epoch 35/100\n",
            "11/11 [==============================] - 2s 199ms/step - loss: 4.8298e-04 - val_loss: 0.0023\n",
            "Epoch 36/100\n",
            "11/11 [==============================] - 2s 197ms/step - loss: 4.6058e-04 - val_loss: 0.0030\n",
            "Epoch 37/100\n",
            "11/11 [==============================] - 2s 196ms/step - loss: 4.6340e-04 - val_loss: 0.0018\n",
            "Epoch 38/100\n",
            "11/11 [==============================] - 2s 198ms/step - loss: 4.3504e-04 - val_loss: 0.0018\n",
            "Epoch 39/100\n",
            "11/11 [==============================] - 2s 201ms/step - loss: 4.1086e-04 - val_loss: 0.0019\n",
            "Epoch 40/100\n",
            "11/11 [==============================] - 2s 201ms/step - loss: 4.2593e-04 - val_loss: 0.0018\n",
            "Epoch 41/100\n",
            "11/11 [==============================] - 2s 199ms/step - loss: 4.0347e-04 - val_loss: 0.0018\n",
            "Epoch 42/100\n",
            "11/11 [==============================] - 2s 207ms/step - loss: 3.9356e-04 - val_loss: 0.0030\n",
            "Epoch 43/100\n",
            "11/11 [==============================] - 2s 202ms/step - loss: 4.0827e-04 - val_loss: 0.0019\n",
            "Epoch 44/100\n",
            "11/11 [==============================] - 2s 197ms/step - loss: 3.8177e-04 - val_loss: 0.0017\n",
            "Epoch 45/100\n",
            "11/11 [==============================] - 2s 201ms/step - loss: 3.8974e-04 - val_loss: 0.0024\n",
            "Epoch 46/100\n",
            "11/11 [==============================] - 2s 200ms/step - loss: 3.8432e-04 - val_loss: 0.0018\n",
            "Epoch 47/100\n",
            "11/11 [==============================] - 2s 202ms/step - loss: 3.9487e-04 - val_loss: 0.0016\n",
            "Epoch 48/100\n",
            "11/11 [==============================] - 2s 199ms/step - loss: 3.6038e-04 - val_loss: 0.0021\n",
            "Epoch 49/100\n",
            "11/11 [==============================] - 2s 198ms/step - loss: 3.5221e-04 - val_loss: 0.0023\n",
            "Epoch 50/100\n",
            "11/11 [==============================] - 2s 201ms/step - loss: 3.4615e-04 - val_loss: 0.0020\n",
            "Epoch 51/100\n",
            "11/11 [==============================] - 2s 198ms/step - loss: 3.3800e-04 - val_loss: 0.0020\n",
            "Epoch 52/100\n",
            "11/11 [==============================] - 2s 204ms/step - loss: 3.5396e-04 - val_loss: 0.0020\n",
            "Epoch 53/100\n",
            "11/11 [==============================] - 3s 311ms/step - loss: 3.3799e-04 - val_loss: 0.0017\n",
            "Epoch 54/100\n",
            "11/11 [==============================] - 3s 237ms/step - loss: 3.2867e-04 - val_loss: 0.0032\n",
            "Epoch 55/100\n",
            "11/11 [==============================] - 2s 199ms/step - loss: 3.7881e-04 - val_loss: 0.0014\n",
            "Epoch 56/100\n",
            "11/11 [==============================] - 2s 196ms/step - loss: 3.1852e-04 - val_loss: 0.0014\n",
            "Epoch 57/100\n",
            "11/11 [==============================] - 2s 196ms/step - loss: 3.3474e-04 - val_loss: 0.0014\n",
            "Epoch 58/100\n",
            "11/11 [==============================] - 2s 201ms/step - loss: 3.0087e-04 - val_loss: 0.0014\n",
            "Epoch 59/100\n",
            "11/11 [==============================] - 2s 200ms/step - loss: 3.0421e-04 - val_loss: 0.0015\n",
            "Epoch 60/100\n",
            "11/11 [==============================] - 2s 205ms/step - loss: 3.0490e-04 - val_loss: 0.0016\n",
            "Epoch 61/100\n",
            "11/11 [==============================] - 2s 204ms/step - loss: 3.0138e-04 - val_loss: 0.0014\n",
            "Epoch 62/100\n",
            "11/11 [==============================] - 2s 198ms/step - loss: 3.1461e-04 - val_loss: 0.0037\n",
            "Epoch 63/100\n",
            "11/11 [==============================] - 2s 205ms/step - loss: 3.5492e-04 - val_loss: 0.0020\n",
            "Epoch 64/100\n",
            "11/11 [==============================] - 2s 197ms/step - loss: 3.5833e-04 - val_loss: 0.0014\n",
            "Epoch 65/100\n",
            "11/11 [==============================] - 2s 205ms/step - loss: 3.7489e-04 - val_loss: 0.0016\n",
            "Epoch 66/100\n",
            "11/11 [==============================] - 2s 207ms/step - loss: 2.7373e-04 - val_loss: 0.0011\n",
            "Epoch 67/100\n",
            "11/11 [==============================] - 2s 198ms/step - loss: 2.6418e-04 - val_loss: 0.0011\n",
            "Epoch 68/100\n",
            "11/11 [==============================] - 2s 200ms/step - loss: 2.5978e-04 - val_loss: 0.0011\n",
            "Epoch 69/100\n",
            "11/11 [==============================] - 2s 200ms/step - loss: 2.8954e-04 - val_loss: 0.0011\n",
            "Epoch 70/100\n",
            "11/11 [==============================] - 2s 198ms/step - loss: 2.5444e-04 - val_loss: 0.0010\n",
            "Epoch 71/100\n",
            "11/11 [==============================] - 2s 199ms/step - loss: 2.6549e-04 - val_loss: 0.0010\n",
            "Epoch 72/100\n",
            "11/11 [==============================] - 2s 196ms/step - loss: 2.5939e-04 - val_loss: 0.0012\n",
            "Epoch 73/100\n",
            "11/11 [==============================] - 3s 253ms/step - loss: 2.7113e-04 - val_loss: 0.0015\n",
            "Epoch 74/100\n",
            "11/11 [==============================] - 2s 200ms/step - loss: 2.5700e-04 - val_loss: 0.0010\n",
            "Epoch 75/100\n",
            "11/11 [==============================] - 2s 198ms/step - loss: 2.4772e-04 - val_loss: 9.3174e-04\n",
            "Epoch 76/100\n",
            "11/11 [==============================] - 2s 195ms/step - loss: 2.4645e-04 - val_loss: 9.9783e-04\n",
            "Epoch 77/100\n",
            "11/11 [==============================] - 2s 199ms/step - loss: 2.3416e-04 - val_loss: 0.0011\n",
            "Epoch 78/100\n",
            "11/11 [==============================] - 2s 201ms/step - loss: 2.2311e-04 - val_loss: 9.0824e-04\n",
            "Epoch 79/100\n",
            "11/11 [==============================] - 2s 202ms/step - loss: 2.3022e-04 - val_loss: 0.0010\n",
            "Epoch 80/100\n",
            "11/11 [==============================] - 2s 201ms/step - loss: 2.3020e-04 - val_loss: 0.0011\n",
            "Epoch 81/100\n",
            "11/11 [==============================] - 2s 198ms/step - loss: 2.4986e-04 - val_loss: 0.0015\n",
            "Epoch 82/100\n",
            "11/11 [==============================] - 2s 206ms/step - loss: 2.5917e-04 - val_loss: 8.2849e-04\n",
            "Epoch 83/100\n",
            "11/11 [==============================] - 2s 201ms/step - loss: 2.2546e-04 - val_loss: 0.0012\n",
            "Epoch 84/100\n",
            "11/11 [==============================] - 2s 203ms/step - loss: 2.2685e-04 - val_loss: 8.3062e-04\n",
            "Epoch 85/100\n",
            "11/11 [==============================] - 2s 206ms/step - loss: 2.2902e-04 - val_loss: 0.0016\n",
            "Epoch 86/100\n",
            "11/11 [==============================] - 2s 200ms/step - loss: 2.1716e-04 - val_loss: 0.0010\n",
            "Epoch 87/100\n",
            "11/11 [==============================] - 2s 208ms/step - loss: 2.3114e-04 - val_loss: 0.0012\n",
            "Epoch 88/100\n",
            "11/11 [==============================] - 2s 203ms/step - loss: 2.1026e-04 - val_loss: 7.6409e-04\n",
            "Epoch 89/100\n",
            "11/11 [==============================] - 2s 199ms/step - loss: 2.0558e-04 - val_loss: 7.4428e-04\n",
            "Epoch 90/100\n",
            "11/11 [==============================] - 2s 206ms/step - loss: 2.0691e-04 - val_loss: 7.6451e-04\n",
            "Epoch 91/100\n",
            "11/11 [==============================] - 2s 200ms/step - loss: 2.1633e-04 - val_loss: 7.1969e-04\n",
            "Epoch 92/100\n",
            "11/11 [==============================] - 2s 209ms/step - loss: 2.1992e-04 - val_loss: 0.0010\n",
            "Epoch 93/100\n",
            "11/11 [==============================] - 2s 201ms/step - loss: 2.1436e-04 - val_loss: 0.0013\n",
            "Epoch 94/100\n",
            "11/11 [==============================] - 2s 201ms/step - loss: 1.9631e-04 - val_loss: 6.9668e-04\n",
            "Epoch 95/100\n",
            "11/11 [==============================] - 2s 203ms/step - loss: 2.0165e-04 - val_loss: 7.6031e-04\n",
            "Epoch 96/100\n",
            "11/11 [==============================] - 3s 316ms/step - loss: 2.0432e-04 - val_loss: 7.3143e-04\n",
            "Epoch 97/100\n",
            "11/11 [==============================] - 3s 238ms/step - loss: 1.9019e-04 - val_loss: 6.8638e-04\n",
            "Epoch 98/100\n",
            "11/11 [==============================] - 2s 201ms/step - loss: 1.9279e-04 - val_loss: 6.6228e-04\n",
            "Epoch 99/100\n",
            "11/11 [==============================] - 2s 201ms/step - loss: 1.9577e-04 - val_loss: 8.7275e-04\n",
            "Epoch 100/100\n",
            "11/11 [==============================] - 2s 201ms/step - loss: 2.0678e-04 - val_loss: 8.1291e-04\n"
          ]
        },
        {
          "output_type": "execute_result",
          "data": {
            "text/plain": [
              "<keras.callbacks.History at 0x7feb7d0f7290>"
            ]
          },
          "metadata": {},
          "execution_count": 28
        }
      ],
      "source": [
        "model.fit(X_train,y_train,validation_data=(X_test,ytest),epochs=100,batch_size=64,verbose=1)"
      ]
    },
    {
      "cell_type": "code",
      "execution_count": 29,
      "metadata": {
        "id": "zHKwYR2UFLtX"
      },
      "outputs": [],
      "source": [
        "import tensorflow as tf"
      ]
    },
    {
      "cell_type": "code",
      "execution_count": 30,
      "metadata": {
        "id": "tceujvDuFLtX",
        "outputId": "f4f36e2f-2d28-48a8-bab6-ad8b0d94685a",
        "colab": {
          "base_uri": "https://localhost:8080/",
          "height": 35
        }
      },
      "outputs": [
        {
          "output_type": "execute_result",
          "data": {
            "text/plain": [
              "'2.8.2'"
            ],
            "application/vnd.google.colaboratory.intrinsic+json": {
              "type": "string"
            }
          },
          "metadata": {},
          "execution_count": 30
        }
      ],
      "source": [
        "tf.__version__"
      ]
    },
    {
      "cell_type": "code",
      "execution_count": 31,
      "metadata": {
        "id": "M6qR4iByFLtX"
      },
      "outputs": [],
      "source": [
        "### Lets Do the prediction and check performance metrics\n",
        "train_predict=model.predict(X_train)\n",
        "test_predict=model.predict(X_test)"
      ]
    },
    {
      "cell_type": "code",
      "execution_count": 32,
      "metadata": {
        "id": "M74Azz5iFLtX"
      },
      "outputs": [],
      "source": [
        "##Transformback to original form\n",
        "train_predict=scaler.inverse_transform(train_predict)\n",
        "test_predict=scaler.inverse_transform(test_predict)"
      ]
    },
    {
      "cell_type": "code",
      "execution_count": 33,
      "metadata": {
        "id": "khb-S3eBFLtY",
        "outputId": "55c4de7a-5461-4489-ca21-7c140488b649",
        "colab": {
          "base_uri": "https://localhost:8080/"
        }
      },
      "outputs": [
        {
          "output_type": "execute_result",
          "data": {
            "text/plain": [
              "1558.2080515239782"
            ]
          },
          "metadata": {},
          "execution_count": 33
        }
      ],
      "source": [
        "### Calculate RMSE performance metrics\n",
        "import math\n",
        "from sklearn.metrics import mean_squared_error\n",
        "math.sqrt(mean_squared_error(y_train,train_predict))"
      ]
    },
    {
      "cell_type": "code",
      "execution_count": 34,
      "metadata": {
        "id": "VhwyLe2bFLtY",
        "outputId": "bcde3cf6-2f15-45cb-e764-2e89c87790b9",
        "colab": {
          "base_uri": "https://localhost:8080/"
        }
      },
      "outputs": [
        {
          "output_type": "execute_result",
          "data": {
            "text/plain": [
              "3101.357757660924"
            ]
          },
          "metadata": {},
          "execution_count": 34
        }
      ],
      "source": [
        "### Test Data RMSE\n",
        "math.sqrt(mean_squared_error(ytest,test_predict))"
      ]
    },
    {
      "cell_type": "code",
      "execution_count": 35,
      "metadata": {
        "id": "NwyAhv0vFLtY",
        "outputId": "d97ae90e-051d-4b5b-8417-c2f0881bafeb",
        "colab": {
          "base_uri": "https://localhost:8080/",
          "height": 265
        }
      },
      "outputs": [
        {
          "output_type": "display_data",
          "data": {
            "text/plain": [
              "<Figure size 432x288 with 1 Axes>"
            ],
            "image/png": "[encoded data removed]"
          },
          "metadata": {
            "needs_background": "light"
          }
        }
      ],
      "source": [
        "### Plotting \n",
        "# shift train predictions for plotting\n",
        "look_back=100\n",
        "trainPredictPlot = numpy.empty_like(df1)\n",
        "trainPredictPlot[:, :] = np.nan\n",
        "trainPredictPlot[look_back:len(train_predict)+look_back, :] = train_predict\n",
        "# shift test predictions for plotting\n",
        "testPredictPlot = numpy.empty_like(df1)\n",
        "testPredictPlot[:, :] = numpy.nan\n",
        "testPredictPlot[len(train_predict)+(look_back*2)+1:len(df1)-1, :] = test_predict\n",
        "# plot baseline and predictions\n",
        "plt.plot(scaler.inverse_transform(df1))\n",
        "plt.plot(trainPredictPlot)\n",
        "plt.plot(testPredictPlot)\n",
        "plt.show()"
      ]
    },
    {
      "cell_type": "code",
      "execution_count": 36,
      "metadata": {
        "id": "4RbLCuahFLtY",
        "outputId": "8eed342c-71ca-42c0-ce7f-f08472285e28",
        "colab": {
          "base_uri": "https://localhost:8080/"
        }
      },
      "outputs": [
        {
          "output_type": "execute_result",
          "data": {
            "text/plain": [
              "433"
            ]
          },
          "metadata": {},
          "execution_count": 36
        }
      ],
      "source": [
        "len(test_data)"
      ]
    },
    {
      "cell_type": "code",
      "execution_count": 42,
      "metadata": {
        "id": "cxB5lCCDFLtZ",
        "outputId": "cdddf3c1-e9d4-4a05-f2f6-5a753400bdfb",
        "colab": {
          "base_uri": "https://localhost:8080/"
        }
      },
      "outputs": [
        {
          "output_type": "execute_result",
          "data": {
            "text/plain": [
              "(1, 100)"
            ]
          },
          "metadata": {},
          "execution_count": 42
        }
      ],
      "source": [
        "x_input=test_data[333:].reshape(1,-1)\n",
        "x_input.shape\n"
      ]
    },
    {
      "cell_type": "code",
      "execution_count": 42,
      "metadata": {
        "id": "bcsKw_6SFLtZ"
      },
      "outputs": [],
      "source": [
        ""
      ]
    },
    {
      "cell_type": "code",
      "execution_count": 42,
      "metadata": {
        "id": "lB8pZE8TFLtZ"
      },
      "outputs": [],
      "source": [
        ""
      ]
    },
    {
      "cell_type": "code",
      "execution_count": 43,
      "metadata": {
        "id": "YvqqH_MiFLtZ"
      },
      "outputs": [],
      "source": [
        "temp_input=list(x_input)\n",
        "temp_input=temp_input[0].tolist()"
      ]
    },
    {
      "cell_type": "code",
      "execution_count": 44,
      "metadata": {
        "id": "0SRYhJFiFLtZ",
        "outputId": "4051831a-0061-40bf-ec8c-0a14205f6cca",
        "colab": {
          "base_uri": "https://localhost:8080/"
        }
      },
      "outputs": [
        {
          "output_type": "execute_result",
          "data": {
            "text/plain": [
              "[0.7877924067798818,\n",
              " 0.7739119960234291,\n",
              " 0.7773669798901905,\n",
              " 0.7860952511458366,\n",
              " 0.7782155083798972,\n",
              " 0.7843375215677524,\n",
              " 0.8000767829000743,\n",
              " 0.7994302004420419,\n",
              " 0.8132500372544555,\n",
              " 0.8148058208008655,\n",
              " 0.824019078227352,\n",
              " 0.8293530382149077,\n",
              " 0.82975712758752,\n",
              " 0.8504667079338992,\n",
              " 0.8307471268194937,\n",
              " 0.8191093331573336,\n",
              " 0.7997130432719441,\n",
              " 0.7758314205433374,\n",
              " 0.763567268622702,\n",
              " 0.8006626927594358,\n",
              " 0.8310704180485098,\n",
              " 0.8335555282282225,\n",
              " 0.8198973863576331,\n",
              " 0.8178970650394968,\n",
              " 0.827069972721501,\n",
              " 0.867216192697752,\n",
              " 0.862973254285323,\n",
              " 0.8479411493550726,\n",
              " 0.8078757275224178,\n",
              " 0.798056336037013,\n",
              " 0.773689727137566,\n",
              " 0.769244744038831,\n",
              " 0.8020164316195397,\n",
              " 0.7888026302114126,\n",
              " 0.7832666255375507,\n",
              " 0.7929849946798024,\n",
              " 0.7670828264335023,\n",
              " 0.7873277434632304,\n",
              " 0.8075726604929585,\n",
              " 0.7860750269462797,\n",
              " 0.8115528816204103,\n",
              " 0.8375156238107493,\n",
              " 0.8022184763058458,\n",
              " 0.7016810206689841,\n",
              " 0.7025295491586907,\n",
              " 0.7003879544075511,\n",
              " 0.7040853327051007,\n",
              " 0.7104092919246301,\n",
              " 0.7075200923723051,\n",
              " 0.7301693214381497,\n",
              " 0.7214207273283149,\n",
              " 0.6933567401313183,\n",
              " 0.6639592382737749,\n",
              " 0.6479977080555899,\n",
              " 0.6405625030613766,\n",
              " 0.6494322450592898,\n",
              " 0.6300359551739003,\n",
              " 0.6197922501163262,\n",
              " 0.6301975514610925,\n",
              " 0.6287024405133534,\n",
              " 0.5974865364790547,\n",
              " 0.6300157309743433,\n",
              " 0.6371479675937293,\n",
              " 0.6322988951223818,\n",
              " 0.6694144448040407,\n",
              " 0.6705054663791674,\n",
              " 0.6947710529354612,\n",
              " 0.6566048314231578,\n",
              " 0.6450074861601116,\n",
              " 0.6439568143294669,\n",
              " 0.6754555611936679,\n",
              " 0.6823857531267477,\n",
              " 0.672808854726763,\n",
              " 0.7111164483267016,\n",
              " 0.72323912950507,\n",
              " 0.7185517519755467,\n",
              " 0.7400695110671507,\n",
              " 0.7239665101066985,\n",
              " 0.743362799992088,\n",
              " 0.7425343970473064,\n",
              " 0.7582938825791854,\n",
              " 0.7743363095955984,\n",
              " 0.7748414213113639,\n",
              " 0.7697296315550393,\n",
              " 0.7938336218241411,\n",
              " 0.7943588590848314,\n",
              " 0.8095324347573489,\n",
              " 0.8109669717610488,\n",
              " 0.8423041223380576,\n",
              " 0.8771971804703489,\n",
              " 0.901988102941965,\n",
              " 0.8982705004448586,\n",
              " 0.9272032403311186,\n",
              " 0.9447811280397527,\n",
              " 0.9532064309205717,\n",
              " 0.9586211890517233,\n",
              " 0.9523780279757901,\n",
              " 0.9334666256066089,\n",
              " 0.930860268884186,\n",
              " 0.9400129523666334]"
            ]
          },
          "metadata": {},
          "execution_count": 44
        }
      ],
      "source": [
        "temp_input"
      ]
    },
    {
      "cell_type": "code",
      "execution_count": 45,
      "metadata": {
        "id": "3EKuQaiNFLtZ",
        "outputId": "4f039f29-13d8-4874-b866-509bd103370d",
        "colab": {
          "base_uri": "https://localhost:8080/"
        }
      },
      "outputs": [
        {
          "output_type": "stream",
          "name": "stdout",
          "text": [
            "[0.9337938]\n",
            "101\n",
            "1 day input [0.773912   0.77736698 0.78609525 0.77821551 0.78433752 0.80007678\n",
            " 0.7994302  0.81325004 0.81480582 0.82401908 0.82935304 0.82975713\n",
            " 0.85046671 0.83074713 0.81910933 0.79971304 0.77583142 0.76356727\n",
            " 0.80066269 0.83107042 0.83355553 0.81989739 0.81789707 0.82706997\n",
            " 0.86721619 0.86297325 0.84794115 0.80787573 0.79805634 0.77368973\n",
            " 0.76924474 0.80201643 0.78880263 0.78326663 0.79298499 0.76708283\n",
            " 0.78732774 0.80757266 0.78607503 0.81155288 0.83751562 0.80221848\n",
            " 0.70168102 0.70252955 0.70038795 0.70408533 0.71040929 0.70752009\n",
            " 0.73016932 0.72142073 0.69335674 0.66395924 0.64799771 0.6405625\n",
            " 0.64943225 0.63003596 0.61979225 0.63019755 0.62870244 0.59748654\n",
            " 0.63001573 0.63714797 0.6322989  0.66941444 0.67050547 0.69477105\n",
            " 0.65660483 0.64500749 0.64395681 0.67545556 0.68238575 0.67280885\n",
            " 0.71111645 0.72323913 0.71855175 0.74006951 0.72396651 0.7433628\n",
            " 0.7425344  0.75829388 0.77433631 0.77484142 0.76972963 0.79383362\n",
            " 0.79435886 0.80953243 0.81096697 0.84230412 0.87719718 0.9019881\n",
            " 0.8982705  0.92720324 0.94478113 0.95320643 0.95862119 0.95237803\n",
            " 0.93346663 0.93086027 0.94001295 0.93379378]\n",
            "1 day output [[0.9441291]]\n",
            "2 day input [0.77736698 0.78609525 0.77821551 0.78433752 0.80007678 0.7994302\n",
            " 0.81325004 0.81480582 0.82401908 0.82935304 0.82975713 0.85046671\n",
            " 0.83074713 0.81910933 0.79971304 0.77583142 0.76356727 0.80066269\n",
            " 0.83107042 0.83355553 0.81989739 0.81789707 0.82706997 0.86721619\n",
            " 0.86297325 0.84794115 0.80787573 0.79805634 0.77368973 0.76924474\n",
            " 0.80201643 0.78880263 0.78326663 0.79298499 0.76708283 0.78732774\n",
            " 0.80757266 0.78607503 0.81155288 0.83751562 0.80221848 0.70168102\n",
            " 0.70252955 0.70038795 0.70408533 0.71040929 0.70752009 0.73016932\n",
            " 0.72142073 0.69335674 0.66395924 0.64799771 0.6405625  0.64943225\n",
            " 0.63003596 0.61979225 0.63019755 0.62870244 0.59748654 0.63001573\n",
            " 0.63714797 0.6322989  0.66941444 0.67050547 0.69477105 0.65660483\n",
            " 0.64500749 0.64395681 0.67545556 0.68238575 0.67280885 0.71111645\n",
            " 0.72323913 0.71855175 0.74006951 0.72396651 0.7433628  0.7425344\n",
            " 0.75829388 0.77433631 0.77484142 0.76972963 0.79383362 0.79435886\n",
            " 0.80953243 0.81096697 0.84230412 0.87719718 0.9019881  0.8982705\n",
            " 0.92720324 0.94478113 0.95320643 0.95862119 0.95237803 0.93346663\n",
            " 0.93086027 0.94001295 0.93379378 0.94412911]\n",
            "2 day output [[0.95470834]]\n",
            "3 day input [0.78609525 0.77821551 0.78433752 0.80007678 0.7994302  0.81325004\n",
            " 0.81480582 0.82401908 0.82935304 0.82975713 0.85046671 0.83074713\n",
            " 0.81910933 0.79971304 0.77583142 0.76356727 0.80066269 0.83107042\n",
            " 0.83355553 0.81989739 0.81789707 0.82706997 0.86721619 0.86297325\n",
            " 0.84794115 0.80787573 0.79805634 0.77368973 0.76924474 0.80201643\n",
            " 0.78880263 0.78326663 0.79298499 0.76708283 0.78732774 0.80757266\n",
            " 0.78607503 0.81155288 0.83751562 0.80221848 0.70168102 0.70252955\n",
            " 0.70038795 0.70408533 0.71040929 0.70752009 0.73016932 0.72142073\n",
            " 0.69335674 0.66395924 0.64799771 0.6405625  0.64943225 0.63003596\n",
            " 0.61979225 0.63019755 0.62870244 0.59748654 0.63001573 0.63714797\n",
            " 0.6322989  0.66941444 0.67050547 0.69477105 0.65660483 0.64500749\n",
            " 0.64395681 0.67545556 0.68238575 0.67280885 0.71111645 0.72323913\n",
            " 0.71855175 0.74006951 0.72396651 0.7433628  0.7425344  0.75829388\n",
            " 0.77433631 0.77484142 0.76972963 0.79383362 0.79435886 0.80953243\n",
            " 0.81096697 0.84230412 0.87719718 0.9019881  0.8982705  0.92720324\n",
            " 0.94478113 0.95320643 0.95862119 0.95237803 0.93346663 0.93086027\n",
            " 0.94001295 0.93379378 0.94412911 0.95470834]\n",
            "3 day output [[0.9671058]]\n",
            "4 day input [0.77821551 0.78433752 0.80007678 0.7994302  0.81325004 0.81480582\n",
            " 0.82401908 0.82935304 0.82975713 0.85046671 0.83074713 0.81910933\n",
            " 0.79971304 0.77583142 0.76356727 0.80066269 0.83107042 0.83355553\n",
            " 0.81989739 0.81789707 0.82706997 0.86721619 0.86297325 0.84794115\n",
            " 0.80787573 0.79805634 0.77368973 0.76924474 0.80201643 0.78880263\n",
            " 0.78326663 0.79298499 0.76708283 0.78732774 0.80757266 0.78607503\n",
            " 0.81155288 0.83751562 0.80221848 0.70168102 0.70252955 0.70038795\n",
            " 0.70408533 0.71040929 0.70752009 0.73016932 0.72142073 0.69335674\n",
            " 0.66395924 0.64799771 0.6405625  0.64943225 0.63003596 0.61979225\n",
            " 0.63019755 0.62870244 0.59748654 0.63001573 0.63714797 0.6322989\n",
            " 0.66941444 0.67050547 0.69477105 0.65660483 0.64500749 0.64395681\n",
            " 0.67545556 0.68238575 0.67280885 0.71111645 0.72323913 0.71855175\n",
            " 0.74006951 0.72396651 0.7433628  0.7425344  0.75829388 0.77433631\n",
            " 0.77484142 0.76972963 0.79383362 0.79435886 0.80953243 0.81096697\n",
            " 0.84230412 0.87719718 0.9019881  0.8982705  0.92720324 0.94478113\n",
            " 0.95320643 0.95862119 0.95237803 0.93346663 0.93086027 0.94001295\n",
            " 0.93379378 0.94412911 0.95470834 0.96710581]\n",
            "4 day output [[0.9802093]]\n",
            "5 day input [0.78433752 0.80007678 0.7994302  0.81325004 0.81480582 0.82401908\n",
            " 0.82935304 0.82975713 0.85046671 0.83074713 0.81910933 0.79971304\n",
            " 0.77583142 0.76356727 0.80066269 0.83107042 0.83355553 0.81989739\n",
            " 0.81789707 0.82706997 0.86721619 0.86297325 0.84794115 0.80787573\n",
            " 0.79805634 0.77368973 0.76924474 0.80201643 0.78880263 0.78326663\n",
            " 0.79298499 0.76708283 0.78732774 0.80757266 0.78607503 0.81155288\n",
            " 0.83751562 0.80221848 0.70168102 0.70252955 0.70038795 0.70408533\n",
            " 0.71040929 0.70752009 0.73016932 0.72142073 0.69335674 0.66395924\n",
            " 0.64799771 0.6405625  0.64943225 0.63003596 0.61979225 0.63019755\n",
            " 0.62870244 0.59748654 0.63001573 0.63714797 0.6322989  0.66941444\n",
            " 0.67050547 0.69477105 0.65660483 0.64500749 0.64395681 0.67545556\n",
            " 0.68238575 0.67280885 0.71111645 0.72323913 0.71855175 0.74006951\n",
            " 0.72396651 0.7433628  0.7425344  0.75829388 0.77433631 0.77484142\n",
            " 0.76972963 0.79383362 0.79435886 0.80953243 0.81096697 0.84230412\n",
            " 0.87719718 0.9019881  0.8982705  0.92720324 0.94478113 0.95320643\n",
            " 0.95862119 0.95237803 0.93346663 0.93086027 0.94001295 0.93379378\n",
            " 0.94412911 0.95470834 0.96710581 0.98020929]\n",
            "5 day output [[0.9924459]]\n",
            "6 day input [0.80007678 0.7994302  0.81325004 0.81480582 0.82401908 0.82935304\n",
            " 0.82975713 0.85046671 0.83074713 0.81910933 0.79971304 0.77583142\n",
            " 0.76356727 0.80066269 0.83107042 0.83355553 0.81989739 0.81789707\n",
            " 0.82706997 0.86721619 0.86297325 0.84794115 0.80787573 0.79805634\n",
            " 0.77368973 0.76924474 0.80201643 0.78880263 0.78326663 0.79298499\n",
            " 0.76708283 0.78732774 0.80757266 0.78607503 0.81155288 0.83751562\n",
            " 0.80221848 0.70168102 0.70252955 0.70038795 0.70408533 0.71040929\n",
            " 0.70752009 0.73016932 0.72142073 0.69335674 0.66395924 0.64799771\n",
            " 0.6405625  0.64943225 0.63003596 0.61979225 0.63019755 0.62870244\n",
            " 0.59748654 0.63001573 0.63714797 0.6322989  0.66941444 0.67050547\n",
            " 0.69477105 0.65660483 0.64500749 0.64395681 0.67545556 0.68238575\n",
            " 0.67280885 0.71111645 0.72323913 0.71855175 0.74006951 0.72396651\n",
            " 0.7433628  0.7425344  0.75829388 0.77433631 0.77484142 0.76972963\n",
            " 0.79383362 0.79435886 0.80953243 0.81096697 0.84230412 0.87719718\n",
            " 0.9019881  0.8982705  0.92720324 0.94478113 0.95320643 0.95862119\n",
            " 0.95237803 0.93346663 0.93086027 0.94001295 0.93379378 0.94412911\n",
            " 0.95470834 0.96710581 0.98020929 0.99244589]\n",
            "6 day output [[1.0026256]]\n",
            "7 day input [0.7994302  0.81325004 0.81480582 0.82401908 0.82935304 0.82975713\n",
            " 0.85046671 0.83074713 0.81910933 0.79971304 0.77583142 0.76356727\n",
            " 0.80066269 0.83107042 0.83355553 0.81989739 0.81789707 0.82706997\n",
            " 0.86721619 0.86297325 0.84794115 0.80787573 0.79805634 0.77368973\n",
            " 0.76924474 0.80201643 0.78880263 0.78326663 0.79298499 0.76708283\n",
            " 0.78732774 0.80757266 0.78607503 0.81155288 0.83751562 0.80221848\n",
            " 0.70168102 0.70252955 0.70038795 0.70408533 0.71040929 0.70752009\n",
            " 0.73016932 0.72142073 0.69335674 0.66395924 0.64799771 0.6405625\n",
            " 0.64943225 0.63003596 0.61979225 0.63019755 0.62870244 0.59748654\n",
            " 0.63001573 0.63714797 0.6322989  0.66941444 0.67050547 0.69477105\n",
            " 0.65660483 0.64500749 0.64395681 0.67545556 0.68238575 0.67280885\n",
            " 0.71111645 0.72323913 0.71855175 0.74006951 0.72396651 0.7433628\n",
            " 0.7425344  0.75829388 0.77433631 0.77484142 0.76972963 0.79383362\n",
            " 0.79435886 0.80953243 0.81096697 0.84230412 0.87719718 0.9019881\n",
            " 0.8982705  0.92720324 0.94478113 0.95320643 0.95862119 0.95237803\n",
            " 0.93346663 0.93086027 0.94001295 0.93379378 0.94412911 0.95470834\n",
            " 0.96710581 0.98020929 0.99244589 1.00262558]\n",
            "7 day output [[1.0101334]]\n",
            "8 day input [0.81325004 0.81480582 0.82401908 0.82935304 0.82975713 0.85046671\n",
            " 0.83074713 0.81910933 0.79971304 0.77583142 0.76356727 0.80066269\n",
            " 0.83107042 0.83355553 0.81989739 0.81789707 0.82706997 0.86721619\n",
            " 0.86297325 0.84794115 0.80787573 0.79805634 0.77368973 0.76924474\n",
            " 0.80201643 0.78880263 0.78326663 0.79298499 0.76708283 0.78732774\n",
            " 0.80757266 0.78607503 0.81155288 0.83751562 0.80221848 0.70168102\n",
            " 0.70252955 0.70038795 0.70408533 0.71040929 0.70752009 0.73016932\n",
            " 0.72142073 0.69335674 0.66395924 0.64799771 0.6405625  0.64943225\n",
            " 0.63003596 0.61979225 0.63019755 0.62870244 0.59748654 0.63001573\n",
            " 0.63714797 0.6322989  0.66941444 0.67050547 0.69477105 0.65660483\n",
            " 0.64500749 0.64395681 0.67545556 0.68238575 0.67280885 0.71111645\n",
            " 0.72323913 0.71855175 0.74006951 0.72396651 0.7433628  0.7425344\n",
            " 0.75829388 0.77433631 0.77484142 0.76972963 0.79383362 0.79435886\n",
            " 0.80953243 0.81096697 0.84230412 0.87719718 0.9019881  0.8982705\n",
            " 0.92720324 0.94478113 0.95320643 0.95862119 0.95237803 0.93346663\n",
            " 0.93086027 0.94001295 0.93379378 0.94412911 0.95470834 0.96710581\n",
            " 0.98020929 0.99244589 1.00262558 1.01013339]\n",
            "8 day output [[1.0149652]]\n",
            "9 day input [0.81480582 0.82401908 0.82935304 0.82975713 0.85046671 0.83074713\n",
            " 0.81910933 0.79971304 0.77583142 0.76356727 0.80066269 0.83107042\n",
            " 0.83355553 0.81989739 0.81789707 0.82706997 0.86721619 0.86297325\n",
            " 0.84794115 0.80787573 0.79805634 0.77368973 0.76924474 0.80201643\n",
            " 0.78880263 0.78326663 0.79298499 0.76708283 0.78732774 0.80757266\n",
            " 0.78607503 0.81155288 0.83751562 0.80221848 0.70168102 0.70252955\n",
            " 0.70038795 0.70408533 0.71040929 0.70752009 0.73016932 0.72142073\n",
            " 0.69335674 0.66395924 0.64799771 0.6405625  0.64943225 0.63003596\n",
            " 0.61979225 0.63019755 0.62870244 0.59748654 0.63001573 0.63714797\n",
            " 0.6322989  0.66941444 0.67050547 0.69477105 0.65660483 0.64500749\n",
            " 0.64395681 0.67545556 0.68238575 0.67280885 0.71111645 0.72323913\n",
            " 0.71855175 0.74006951 0.72396651 0.7433628  0.7425344  0.75829388\n",
            " 0.77433631 0.77484142 0.76972963 0.79383362 0.79435886 0.80953243\n",
            " 0.81096697 0.84230412 0.87719718 0.9019881  0.8982705  0.92720324\n",
            " 0.94478113 0.95320643 0.95862119 0.95237803 0.93346663 0.93086027\n",
            " 0.94001295 0.93379378 0.94412911 0.95470834 0.96710581 0.98020929\n",
            " 0.99244589 1.00262558 1.01013339 1.01496518]\n",
            "9 day output [[1.0176624]]\n",
            "10 day input [0.82401908 0.82935304 0.82975713 0.85046671 0.83074713 0.81910933\n",
            " 0.79971304 0.77583142 0.76356727 0.80066269 0.83107042 0.83355553\n",
            " 0.81989739 0.81789707 0.82706997 0.86721619 0.86297325 0.84794115\n",
            " 0.80787573 0.79805634 0.77368973 0.76924474 0.80201643 0.78880263\n",
            " 0.78326663 0.79298499 0.76708283 0.78732774 0.80757266 0.78607503\n",
            " 0.81155288 0.83751562 0.80221848 0.70168102 0.70252955 0.70038795\n",
            " 0.70408533 0.71040929 0.70752009 0.73016932 0.72142073 0.69335674\n",
            " 0.66395924 0.64799771 0.6405625  0.64943225 0.63003596 0.61979225\n",
            " 0.63019755 0.62870244 0.59748654 0.63001573 0.63714797 0.6322989\n",
            " 0.66941444 0.67050547 0.69477105 0.65660483 0.64500749 0.64395681\n",
            " 0.67545556 0.68238575 0.67280885 0.71111645 0.72323913 0.71855175\n",
            " 0.74006951 0.72396651 0.7433628  0.7425344  0.75829388 0.77433631\n",
            " 0.77484142 0.76972963 0.79383362 0.79435886 0.80953243 0.81096697\n",
            " 0.84230412 0.87719718 0.9019881  0.8982705  0.92720324 0.94478113\n",
            " 0.95320643 0.95862119 0.95237803 0.93346663 0.93086027 0.94001295\n",
            " 0.93379378 0.94412911 0.95470834 0.96710581 0.98020929 0.99244589\n",
            " 1.00262558 1.01013339 1.01496518 1.01766241]\n",
            "10 day output [[1.0191405]]\n",
            "11 day input [0.82935304 0.82975713 0.85046671 0.83074713 0.81910933 0.79971304\n",
            " 0.77583142 0.76356727 0.80066269 0.83107042 0.83355553 0.81989739\n",
            " 0.81789707 0.82706997 0.86721619 0.86297325 0.84794115 0.80787573\n",
            " 0.79805634 0.77368973 0.76924474 0.80201643 0.78880263 0.78326663\n",
            " 0.79298499 0.76708283 0.78732774 0.80757266 0.78607503 0.81155288\n",
            " 0.83751562 0.80221848 0.70168102 0.70252955 0.70038795 0.70408533\n",
            " 0.71040929 0.70752009 0.73016932 0.72142073 0.69335674 0.66395924\n",
            " 0.64799771 0.6405625  0.64943225 0.63003596 0.61979225 0.63019755\n",
            " 0.62870244 0.59748654 0.63001573 0.63714797 0.6322989  0.66941444\n",
            " 0.67050547 0.69477105 0.65660483 0.64500749 0.64395681 0.67545556\n",
            " 0.68238575 0.67280885 0.71111645 0.72323913 0.71855175 0.74006951\n",
            " 0.72396651 0.7433628  0.7425344  0.75829388 0.77433631 0.77484142\n",
            " 0.76972963 0.79383362 0.79435886 0.80953243 0.81096697 0.84230412\n",
            " 0.87719718 0.9019881  0.8982705  0.92720324 0.94478113 0.95320643\n",
            " 0.95862119 0.95237803 0.93346663 0.93086027 0.94001295 0.93379378\n",
            " 0.94412911 0.95470834 0.96710581 0.98020929 0.99244589 1.00262558\n",
            " 1.01013339 1.01496518 1.01766241 1.01914048]\n",
            "11 day output [[1.020453]]\n",
            "12 day input [0.82975713 0.85046671 0.83074713 0.81910933 0.79971304 0.77583142\n",
            " 0.76356727 0.80066269 0.83107042 0.83355553 0.81989739 0.81789707\n",
            " 0.82706997 0.86721619 0.86297325 0.84794115 0.80787573 0.79805634\n",
            " 0.77368973 0.76924474 0.80201643 0.78880263 0.78326663 0.79298499\n",
            " 0.76708283 0.78732774 0.80757266 0.78607503 0.81155288 0.83751562\n",
            " 0.80221848 0.70168102 0.70252955 0.70038795 0.70408533 0.71040929\n",
            " 0.70752009 0.73016932 0.72142073 0.69335674 0.66395924 0.64799771\n",
            " 0.6405625  0.64943225 0.63003596 0.61979225 0.63019755 0.62870244\n",
            " 0.59748654 0.63001573 0.63714797 0.6322989  0.66941444 0.67050547\n",
            " 0.69477105 0.65660483 0.64500749 0.64395681 0.67545556 0.68238575\n",
            " 0.67280885 0.71111645 0.72323913 0.71855175 0.74006951 0.72396651\n",
            " 0.7433628  0.7425344  0.75829388 0.77433631 0.77484142 0.76972963\n",
            " 0.79383362 0.79435886 0.80953243 0.81096697 0.84230412 0.87719718\n",
            " 0.9019881  0.8982705  0.92720324 0.94478113 0.95320643 0.95862119\n",
            " 0.95237803 0.93346663 0.93086027 0.94001295 0.93379378 0.94412911\n",
            " 0.95470834 0.96710581 0.98020929 0.99244589 1.00262558 1.01013339\n",
            " 1.01496518 1.01766241 1.01914048 1.02045298]\n",
            "12 day output [[1.0225494]]\n",
            "13 day input [0.85046671 0.83074713 0.81910933 0.79971304 0.77583142 0.76356727\n",
            " 0.80066269 0.83107042 0.83355553 0.81989739 0.81789707 0.82706997\n",
            " 0.86721619 0.86297325 0.84794115 0.80787573 0.79805634 0.77368973\n",
            " 0.76924474 0.80201643 0.78880263 0.78326663 0.79298499 0.76708283\n",
            " 0.78732774 0.80757266 0.78607503 0.81155288 0.83751562 0.80221848\n",
            " 0.70168102 0.70252955 0.70038795 0.70408533 0.71040929 0.70752009\n",
            " 0.73016932 0.72142073 0.69335674 0.66395924 0.64799771 0.6405625\n",
            " 0.64943225 0.63003596 0.61979225 0.63019755 0.62870244 0.59748654\n",
            " 0.63001573 0.63714797 0.6322989  0.66941444 0.67050547 0.69477105\n",
            " 0.65660483 0.64500749 0.64395681 0.67545556 0.68238575 0.67280885\n",
            " 0.71111645 0.72323913 0.71855175 0.74006951 0.72396651 0.7433628\n",
            " 0.7425344  0.75829388 0.77433631 0.77484142 0.76972963 0.79383362\n",
            " 0.79435886 0.80953243 0.81096697 0.84230412 0.87719718 0.9019881\n",
            " 0.8982705  0.92720324 0.94478113 0.95320643 0.95862119 0.95237803\n",
            " 0.93346663 0.93086027 0.94001295 0.93379378 0.94412911 0.95470834\n",
            " 0.96710581 0.98020929 0.99244589 1.00262558 1.01013339 1.01496518\n",
            " 1.01766241 1.01914048 1.02045298 1.02254939]\n",
            "13 day output [[1.0260905]]\n",
            "14 day input [0.83074713 0.81910933 0.79971304 0.77583142 0.76356727 0.80066269\n",
            " 0.83107042 0.83355553 0.81989739 0.81789707 0.82706997 0.86721619\n",
            " 0.86297325 0.84794115 0.80787573 0.79805634 0.77368973 0.76924474\n",
            " 0.80201643 0.78880263 0.78326663 0.79298499 0.76708283 0.78732774\n",
            " 0.80757266 0.78607503 0.81155288 0.83751562 0.80221848 0.70168102\n",
            " 0.70252955 0.70038795 0.70408533 0.71040929 0.70752009 0.73016932\n",
            " 0.72142073 0.69335674 0.66395924 0.64799771 0.6405625  0.64943225\n",
            " 0.63003596 0.61979225 0.63019755 0.62870244 0.59748654 0.63001573\n",
            " 0.63714797 0.6322989  0.66941444 0.67050547 0.69477105 0.65660483\n",
            " 0.64500749 0.64395681 0.67545556 0.68238575 0.67280885 0.71111645\n",
            " 0.72323913 0.71855175 0.74006951 0.72396651 0.7433628  0.7425344\n",
            " 0.75829388 0.77433631 0.77484142 0.76972963 0.79383362 0.79435886\n",
            " 0.80953243 0.81096697 0.84230412 0.87719718 0.9019881  0.8982705\n",
            " 0.92720324 0.94478113 0.95320643 0.95862119 0.95237803 0.93346663\n",
            " 0.93086027 0.94001295 0.93379378 0.94412911 0.95470834 0.96710581\n",
            " 0.98020929 0.99244589 1.00262558 1.01013339 1.01496518 1.01766241\n",
            " 1.01914048 1.02045298 1.02254939 1.0260905 ]\n",
            "14 day output [[1.0313436]]\n",
            "15 day input [0.81910933 0.79971304 0.77583142 0.76356727 0.80066269 0.83107042\n",
            " 0.83355553 0.81989739 0.81789707 0.82706997 0.86721619 0.86297325\n",
            " 0.84794115 0.80787573 0.79805634 0.77368973 0.76924474 0.80201643\n",
            " 0.78880263 0.78326663 0.79298499 0.76708283 0.78732774 0.80757266\n",
            " 0.78607503 0.81155288 0.83751562 0.80221848 0.70168102 0.70252955\n",
            " 0.70038795 0.70408533 0.71040929 0.70752009 0.73016932 0.72142073\n",
            " 0.69335674 0.66395924 0.64799771 0.6405625  0.64943225 0.63003596\n",
            " 0.61979225 0.63019755 0.62870244 0.59748654 0.63001573 0.63714797\n",
            " 0.6322989  0.66941444 0.67050547 0.69477105 0.65660483 0.64500749\n",
            " 0.64395681 0.67545556 0.68238575 0.67280885 0.71111645 0.72323913\n",
            " 0.71855175 0.74006951 0.72396651 0.7433628  0.7425344  0.75829388\n",
            " 0.77433631 0.77484142 0.76972963 0.79383362 0.79435886 0.80953243\n",
            " 0.81096697 0.84230412 0.87719718 0.9019881  0.8982705  0.92720324\n",
            " 0.94478113 0.95320643 0.95862119 0.95237803 0.93346663 0.93086027\n",
            " 0.94001295 0.93379378 0.94412911 0.95470834 0.96710581 0.98020929\n",
            " 0.99244589 1.00262558 1.01013339 1.01496518 1.01766241 1.01914048\n",
            " 1.02045298 1.02254939 1.0260905  1.03134358]\n",
            "15 day output [[1.0381737]]\n",
            "16 day input [0.79971304 0.77583142 0.76356727 0.80066269 0.83107042 0.83355553\n",
            " 0.81989739 0.81789707 0.82706997 0.86721619 0.86297325 0.84794115\n",
            " 0.80787573 0.79805634 0.77368973 0.76924474 0.80201643 0.78880263\n",
            " 0.78326663 0.79298499 0.76708283 0.78732774 0.80757266 0.78607503\n",
            " 0.81155288 0.83751562 0.80221848 0.70168102 0.70252955 0.70038795\n",
            " 0.70408533 0.71040929 0.70752009 0.73016932 0.72142073 0.69335674\n",
            " 0.66395924 0.64799771 0.6405625  0.64943225 0.63003596 0.61979225\n",
            " 0.63019755 0.62870244 0.59748654 0.63001573 0.63714797 0.6322989\n",
            " 0.66941444 0.67050547 0.69477105 0.65660483 0.64500749 0.64395681\n",
            " 0.67545556 0.68238575 0.67280885 0.71111645 0.72323913 0.71855175\n",
            " 0.74006951 0.72396651 0.7433628  0.7425344  0.75829388 0.77433631\n",
            " 0.77484142 0.76972963 0.79383362 0.79435886 0.80953243 0.81096697\n",
            " 0.84230412 0.87719718 0.9019881  0.8982705  0.92720324 0.94478113\n",
            " 0.95320643 0.95862119 0.95237803 0.93346663 0.93086027 0.94001295\n",
            " 0.93379378 0.94412911 0.95470834 0.96710581 0.98020929 0.99244589\n",
            " 1.00262558 1.01013339 1.01496518 1.01766241 1.01914048 1.02045298\n",
            " 1.02254939 1.0260905  1.03134358 1.03817368]\n",
            "16 day output [[1.0461172]]\n",
            "17 day input [0.77583142 0.76356727 0.80066269 0.83107042 0.83355553 0.81989739\n",
            " 0.81789707 0.82706997 0.86721619 0.86297325 0.84794115 0.80787573\n",
            " 0.79805634 0.77368973 0.76924474 0.80201643 0.78880263 0.78326663\n",
            " 0.79298499 0.76708283 0.78732774 0.80757266 0.78607503 0.81155288\n",
            " 0.83751562 0.80221848 0.70168102 0.70252955 0.70038795 0.70408533\n",
            " 0.71040929 0.70752009 0.73016932 0.72142073 0.69335674 0.66395924\n",
            " 0.64799771 0.6405625  0.64943225 0.63003596 0.61979225 0.63019755\n",
            " 0.62870244 0.59748654 0.63001573 0.63714797 0.6322989  0.66941444\n",
            " 0.67050547 0.69477105 0.65660483 0.64500749 0.64395681 0.67545556\n",
            " 0.68238575 0.67280885 0.71111645 0.72323913 0.71855175 0.74006951\n",
            " 0.72396651 0.7433628  0.7425344  0.75829388 0.77433631 0.77484142\n",
            " 0.76972963 0.79383362 0.79435886 0.80953243 0.81096697 0.84230412\n",
            " 0.87719718 0.9019881  0.8982705  0.92720324 0.94478113 0.95320643\n",
            " 0.95862119 0.95237803 0.93346663 0.93086027 0.94001295 0.93379378\n",
            " 0.94412911 0.95470834 0.96710581 0.98020929 0.99244589 1.00262558\n",
            " 1.01013339 1.01496518 1.01766241 1.01914048 1.02045298 1.02254939\n",
            " 1.0260905  1.03134358 1.03817368 1.04611719]\n",
            "17 day output [[1.0545115]]\n",
            "18 day input [0.76356727 0.80066269 0.83107042 0.83355553 0.81989739 0.81789707\n",
            " 0.82706997 0.86721619 0.86297325 0.84794115 0.80787573 0.79805634\n",
            " 0.77368973 0.76924474 0.80201643 0.78880263 0.78326663 0.79298499\n",
            " 0.76708283 0.78732774 0.80757266 0.78607503 0.81155288 0.83751562\n",
            " 0.80221848 0.70168102 0.70252955 0.70038795 0.70408533 0.71040929\n",
            " 0.70752009 0.73016932 0.72142073 0.69335674 0.66395924 0.64799771\n",
            " 0.6405625  0.64943225 0.63003596 0.61979225 0.63019755 0.62870244\n",
            " 0.59748654 0.63001573 0.63714797 0.6322989  0.66941444 0.67050547\n",
            " 0.69477105 0.65660483 0.64500749 0.64395681 0.67545556 0.68238575\n",
            " 0.67280885 0.71111645 0.72323913 0.71855175 0.74006951 0.72396651\n",
            " 0.7433628  0.7425344  0.75829388 0.77433631 0.77484142 0.76972963\n",
            " 0.79383362 0.79435886 0.80953243 0.81096697 0.84230412 0.87719718\n",
            " 0.9019881  0.8982705  0.92720324 0.94478113 0.95320643 0.95862119\n",
            " 0.95237803 0.93346663 0.93086027 0.94001295 0.93379378 0.94412911\n",
            " 0.95470834 0.96710581 0.98020929 0.99244589 1.00262558 1.01013339\n",
            " 1.01496518 1.01766241 1.01914048 1.02045298 1.02254939 1.0260905\n",
            " 1.03134358 1.03817368 1.04611719 1.05451155]\n",
            "18 day output [[1.0626543]]\n",
            "19 day input [0.80066269 0.83107042 0.83355553 0.81989739 0.81789707 0.82706997\n",
            " 0.86721619 0.86297325 0.84794115 0.80787573 0.79805634 0.77368973\n",
            " 0.76924474 0.80201643 0.78880263 0.78326663 0.79298499 0.76708283\n",
            " 0.78732774 0.80757266 0.78607503 0.81155288 0.83751562 0.80221848\n",
            " 0.70168102 0.70252955 0.70038795 0.70408533 0.71040929 0.70752009\n",
            " 0.73016932 0.72142073 0.69335674 0.66395924 0.64799771 0.6405625\n",
            " 0.64943225 0.63003596 0.61979225 0.63019755 0.62870244 0.59748654\n",
            " 0.63001573 0.63714797 0.6322989  0.66941444 0.67050547 0.69477105\n",
            " 0.65660483 0.64500749 0.64395681 0.67545556 0.68238575 0.67280885\n",
            " 0.71111645 0.72323913 0.71855175 0.74006951 0.72396651 0.7433628\n",
            " 0.7425344  0.75829388 0.77433631 0.77484142 0.76972963 0.79383362\n",
            " 0.79435886 0.80953243 0.81096697 0.84230412 0.87719718 0.9019881\n",
            " 0.8982705  0.92720324 0.94478113 0.95320643 0.95862119 0.95237803\n",
            " 0.93346663 0.93086027 0.94001295 0.93379378 0.94412911 0.95470834\n",
            " 0.96710581 0.98020929 0.99244589 1.00262558 1.01013339 1.01496518\n",
            " 1.01766241 1.01914048 1.02045298 1.02254939 1.0260905  1.03134358\n",
            " 1.03817368 1.04611719 1.05451155 1.06265426]\n",
            "19 day output [[1.0699548]]\n",
            "20 day input [0.83107042 0.83355553 0.81989739 0.81789707 0.82706997 0.86721619\n",
            " 0.86297325 0.84794115 0.80787573 0.79805634 0.77368973 0.76924474\n",
            " 0.80201643 0.78880263 0.78326663 0.79298499 0.76708283 0.78732774\n",
            " 0.80757266 0.78607503 0.81155288 0.83751562 0.80221848 0.70168102\n",
            " 0.70252955 0.70038795 0.70408533 0.71040929 0.70752009 0.73016932\n",
            " 0.72142073 0.69335674 0.66395924 0.64799771 0.6405625  0.64943225\n",
            " 0.63003596 0.61979225 0.63019755 0.62870244 0.59748654 0.63001573\n",
            " 0.63714797 0.6322989  0.66941444 0.67050547 0.69477105 0.65660483\n",
            " 0.64500749 0.64395681 0.67545556 0.68238575 0.67280885 0.71111645\n",
            " 0.72323913 0.71855175 0.74006951 0.72396651 0.7433628  0.7425344\n",
            " 0.75829388 0.77433631 0.77484142 0.76972963 0.79383362 0.79435886\n",
            " 0.80953243 0.81096697 0.84230412 0.87719718 0.9019881  0.8982705\n",
            " 0.92720324 0.94478113 0.95320643 0.95862119 0.95237803 0.93346663\n",
            " 0.93086027 0.94001295 0.93379378 0.94412911 0.95470834 0.96710581\n",
            " 0.98020929 0.99244589 1.00262558 1.01013339 1.01496518 1.01766241\n",
            " 1.01914048 1.02045298 1.02254939 1.0260905  1.03134358 1.03817368\n",
            " 1.04611719 1.05451155 1.06265426 1.06995475]\n",
            "20 day output [[1.0760478]]\n",
            "21 day input [0.83355553 0.81989739 0.81789707 0.82706997 0.86721619 0.86297325\n",
            " 0.84794115 0.80787573 0.79805634 0.77368973 0.76924474 0.80201643\n",
            " 0.78880263 0.78326663 0.79298499 0.76708283 0.78732774 0.80757266\n",
            " 0.78607503 0.81155288 0.83751562 0.80221848 0.70168102 0.70252955\n",
            " 0.70038795 0.70408533 0.71040929 0.70752009 0.73016932 0.72142073\n",
            " 0.69335674 0.66395924 0.64799771 0.6405625  0.64943225 0.63003596\n",
            " 0.61979225 0.63019755 0.62870244 0.59748654 0.63001573 0.63714797\n",
            " 0.6322989  0.66941444 0.67050547 0.69477105 0.65660483 0.64500749\n",
            " 0.64395681 0.67545556 0.68238575 0.67280885 0.71111645 0.72323913\n",
            " 0.71855175 0.74006951 0.72396651 0.7433628  0.7425344  0.75829388\n",
            " 0.77433631 0.77484142 0.76972963 0.79383362 0.79435886 0.80953243\n",
            " 0.81096697 0.84230412 0.87719718 0.9019881  0.8982705  0.92720324\n",
            " 0.94478113 0.95320643 0.95862119 0.95237803 0.93346663 0.93086027\n",
            " 0.94001295 0.93379378 0.94412911 0.95470834 0.96710581 0.98020929\n",
            " 0.99244589 1.00262558 1.01013339 1.01496518 1.01766241 1.01914048\n",
            " 1.02045298 1.02254939 1.0260905  1.03134358 1.03817368 1.04611719\n",
            " 1.05451155 1.06265426 1.06995475 1.07604778]\n",
            "21 day output [[1.080851]]\n",
            "22 day input [0.81989739 0.81789707 0.82706997 0.86721619 0.86297325 0.84794115\n",
            " 0.80787573 0.79805634 0.77368973 0.76924474 0.80201643 0.78880263\n",
            " 0.78326663 0.79298499 0.76708283 0.78732774 0.80757266 0.78607503\n",
            " 0.81155288 0.83751562 0.80221848 0.70168102 0.70252955 0.70038795\n",
            " 0.70408533 0.71040929 0.70752009 0.73016932 0.72142073 0.69335674\n",
            " 0.66395924 0.64799771 0.6405625  0.64943225 0.63003596 0.61979225\n",
            " 0.63019755 0.62870244 0.59748654 0.63001573 0.63714797 0.6322989\n",
            " 0.66941444 0.67050547 0.69477105 0.65660483 0.64500749 0.64395681\n",
            " 0.67545556 0.68238575 0.67280885 0.71111645 0.72323913 0.71855175\n",
            " 0.74006951 0.72396651 0.7433628  0.7425344  0.75829388 0.77433631\n",
            " 0.77484142 0.76972963 0.79383362 0.79435886 0.80953243 0.81096697\n",
            " 0.84230412 0.87719718 0.9019881  0.8982705  0.92720324 0.94478113\n",
            " 0.95320643 0.95862119 0.95237803 0.93346663 0.93086027 0.94001295\n",
            " 0.93379378 0.94412911 0.95470834 0.96710581 0.98020929 0.99244589\n",
            " 1.00262558 1.01013339 1.01496518 1.01766241 1.01914048 1.02045298\n",
            " 1.02254939 1.0260905  1.03134358 1.03817368 1.04611719 1.05451155\n",
            " 1.06265426 1.06995475 1.07604778 1.08085096]\n",
            "22 day output [[1.0845519]]\n",
            "23 day input [0.81789707 0.82706997 0.86721619 0.86297325 0.84794115 0.80787573\n",
            " 0.79805634 0.77368973 0.76924474 0.80201643 0.78880263 0.78326663\n",
            " 0.79298499 0.76708283 0.78732774 0.80757266 0.78607503 0.81155288\n",
            " 0.83751562 0.80221848 0.70168102 0.70252955 0.70038795 0.70408533\n",
            " 0.71040929 0.70752009 0.73016932 0.72142073 0.69335674 0.66395924\n",
            " 0.64799771 0.6405625  0.64943225 0.63003596 0.61979225 0.63019755\n",
            " 0.62870244 0.59748654 0.63001573 0.63714797 0.6322989  0.66941444\n",
            " 0.67050547 0.69477105 0.65660483 0.64500749 0.64395681 0.67545556\n",
            " 0.68238575 0.67280885 0.71111645 0.72323913 0.71855175 0.74006951\n",
            " 0.72396651 0.7433628  0.7425344  0.75829388 0.77433631 0.77484142\n",
            " 0.76972963 0.79383362 0.79435886 0.80953243 0.81096697 0.84230412\n",
            " 0.87719718 0.9019881  0.8982705  0.92720324 0.94478113 0.95320643\n",
            " 0.95862119 0.95237803 0.93346663 0.93086027 0.94001295 0.93379378\n",
            " 0.94412911 0.95470834 0.96710581 0.98020929 0.99244589 1.00262558\n",
            " 1.01013339 1.01496518 1.01766241 1.01914048 1.02045298 1.02254939\n",
            " 1.0260905  1.03134358 1.03817368 1.04611719 1.05451155 1.06265426\n",
            " 1.06995475 1.07604778 1.08085096 1.08455193]\n",
            "23 day output [[1.0875398]]\n",
            "24 day input [0.82706997 0.86721619 0.86297325 0.84794115 0.80787573 0.79805634\n",
            " 0.77368973 0.76924474 0.80201643 0.78880263 0.78326663 0.79298499\n",
            " 0.76708283 0.78732774 0.80757266 0.78607503 0.81155288 0.83751562\n",
            " 0.80221848 0.70168102 0.70252955 0.70038795 0.70408533 0.71040929\n",
            " 0.70752009 0.73016932 0.72142073 0.69335674 0.66395924 0.64799771\n",
            " 0.6405625  0.64943225 0.63003596 0.61979225 0.63019755 0.62870244\n",
            " 0.59748654 0.63001573 0.63714797 0.6322989  0.66941444 0.67050547\n",
            " 0.69477105 0.65660483 0.64500749 0.64395681 0.67545556 0.68238575\n",
            " 0.67280885 0.71111645 0.72323913 0.71855175 0.74006951 0.72396651\n",
            " 0.7433628  0.7425344  0.75829388 0.77433631 0.77484142 0.76972963\n",
            " 0.79383362 0.79435886 0.80953243 0.81096697 0.84230412 0.87719718\n",
            " 0.9019881  0.8982705  0.92720324 0.94478113 0.95320643 0.95862119\n",
            " 0.95237803 0.93346663 0.93086027 0.94001295 0.93379378 0.94412911\n",
            " 0.95470834 0.96710581 0.98020929 0.99244589 1.00262558 1.01013339\n",
            " 1.01496518 1.01766241 1.01914048 1.02045298 1.02254939 1.0260905\n",
            " 1.03134358 1.03817368 1.04611719 1.05451155 1.06265426 1.06995475\n",
            " 1.07604778 1.08085096 1.08455193 1.08753979]\n",
            "24 day output [[1.0902964]]\n",
            "25 day input [0.86721619 0.86297325 0.84794115 0.80787573 0.79805634 0.77368973\n",
            " 0.76924474 0.80201643 0.78880263 0.78326663 0.79298499 0.76708283\n",
            " 0.78732774 0.80757266 0.78607503 0.81155288 0.83751562 0.80221848\n",
            " 0.70168102 0.70252955 0.70038795 0.70408533 0.71040929 0.70752009\n",
            " 0.73016932 0.72142073 0.69335674 0.66395924 0.64799771 0.6405625\n",
            " 0.64943225 0.63003596 0.61979225 0.63019755 0.62870244 0.59748654\n",
            " 0.63001573 0.63714797 0.6322989  0.66941444 0.67050547 0.69477105\n",
            " 0.65660483 0.64500749 0.64395681 0.67545556 0.68238575 0.67280885\n",
            " 0.71111645 0.72323913 0.71855175 0.74006951 0.72396651 0.7433628\n",
            " 0.7425344  0.75829388 0.77433631 0.77484142 0.76972963 0.79383362\n",
            " 0.79435886 0.80953243 0.81096697 0.84230412 0.87719718 0.9019881\n",
            " 0.8982705  0.92720324 0.94478113 0.95320643 0.95862119 0.95237803\n",
            " 0.93346663 0.93086027 0.94001295 0.93379378 0.94412911 0.95470834\n",
            " 0.96710581 0.98020929 0.99244589 1.00262558 1.01013339 1.01496518\n",
            " 1.01766241 1.01914048 1.02045298 1.02254939 1.0260905  1.03134358\n",
            " 1.03817368 1.04611719 1.05451155 1.06265426 1.06995475 1.07604778\n",
            " 1.08085096 1.08455193 1.08753979 1.09029639]\n",
            "25 day output [[1.0932819]]\n",
            "26 day input [0.86297325 0.84794115 0.80787573 0.79805634 0.77368973 0.76924474\n",
            " 0.80201643 0.78880263 0.78326663 0.79298499 0.76708283 0.78732774\n",
            " 0.80757266 0.78607503 0.81155288 0.83751562 0.80221848 0.70168102\n",
            " 0.70252955 0.70038795 0.70408533 0.71040929 0.70752009 0.73016932\n",
            " 0.72142073 0.69335674 0.66395924 0.64799771 0.6405625  0.64943225\n",
            " 0.63003596 0.61979225 0.63019755 0.62870244 0.59748654 0.63001573\n",
            " 0.63714797 0.6322989  0.66941444 0.67050547 0.69477105 0.65660483\n",
            " 0.64500749 0.64395681 0.67545556 0.68238575 0.67280885 0.71111645\n",
            " 0.72323913 0.71855175 0.74006951 0.72396651 0.7433628  0.7425344\n",
            " 0.75829388 0.77433631 0.77484142 0.76972963 0.79383362 0.79435886\n",
            " 0.80953243 0.81096697 0.84230412 0.87719718 0.9019881  0.8982705\n",
            " 0.92720324 0.94478113 0.95320643 0.95862119 0.95237803 0.93346663\n",
            " 0.93086027 0.94001295 0.93379378 0.94412911 0.95470834 0.96710581\n",
            " 0.98020929 0.99244589 1.00262558 1.01013339 1.01496518 1.01766241\n",
            " 1.01914048 1.02045298 1.02254939 1.0260905  1.03134358 1.03817368\n",
            " 1.04611719 1.05451155 1.06265426 1.06995475 1.07604778 1.08085096\n",
            " 1.08455193 1.08753979 1.09029639 1.09328187]\n",
            "26 day output [[1.0968345]]\n",
            "27 day input [0.84794115 0.80787573 0.79805634 0.77368973 0.76924474 0.80201643\n",
            " 0.78880263 0.78326663 0.79298499 0.76708283 0.78732774 0.80757266\n",
            " 0.78607503 0.81155288 0.83751562 0.80221848 0.70168102 0.70252955\n",
            " 0.70038795 0.70408533 0.71040929 0.70752009 0.73016932 0.72142073\n",
            " 0.69335674 0.66395924 0.64799771 0.6405625  0.64943225 0.63003596\n",
            " 0.61979225 0.63019755 0.62870244 0.59748654 0.63001573 0.63714797\n",
            " 0.6322989  0.66941444 0.67050547 0.69477105 0.65660483 0.64500749\n",
            " 0.64395681 0.67545556 0.68238575 0.67280885 0.71111645 0.72323913\n",
            " 0.71855175 0.74006951 0.72396651 0.7433628  0.7425344  0.75829388\n",
            " 0.77433631 0.77484142 0.76972963 0.79383362 0.79435886 0.80953243\n",
            " 0.81096697 0.84230412 0.87719718 0.9019881  0.8982705  0.92720324\n",
            " 0.94478113 0.95320643 0.95862119 0.95237803 0.93346663 0.93086027\n",
            " 0.94001295 0.93379378 0.94412911 0.95470834 0.96710581 0.98020929\n",
            " 0.99244589 1.00262558 1.01013339 1.01496518 1.01766241 1.01914048\n",
            " 1.02045298 1.02254939 1.0260905  1.03134358 1.03817368 1.04611719\n",
            " 1.05451155 1.06265426 1.06995475 1.07604778 1.08085096 1.08455193\n",
            " 1.08753979 1.09029639 1.09328187 1.09683454]\n",
            "27 day output [[1.1011134]]\n",
            "28 day input [0.80787573 0.79805634 0.77368973 0.76924474 0.80201643 0.78880263\n",
            " 0.78326663 0.79298499 0.76708283 0.78732774 0.80757266 0.78607503\n",
            " 0.81155288 0.83751562 0.80221848 0.70168102 0.70252955 0.70038795\n",
            " 0.70408533 0.71040929 0.70752009 0.73016932 0.72142073 0.69335674\n",
            " 0.66395924 0.64799771 0.6405625  0.64943225 0.63003596 0.61979225\n",
            " 0.63019755 0.62870244 0.59748654 0.63001573 0.63714797 0.6322989\n",
            " 0.66941444 0.67050547 0.69477105 0.65660483 0.64500749 0.64395681\n",
            " 0.67545556 0.68238575 0.67280885 0.71111645 0.72323913 0.71855175\n",
            " 0.74006951 0.72396651 0.7433628  0.7425344  0.75829388 0.77433631\n",
            " 0.77484142 0.76972963 0.79383362 0.79435886 0.80953243 0.81096697\n",
            " 0.84230412 0.87719718 0.9019881  0.8982705  0.92720324 0.94478113\n",
            " 0.95320643 0.95862119 0.95237803 0.93346663 0.93086027 0.94001295\n",
            " 0.93379378 0.94412911 0.95470834 0.96710581 0.98020929 0.99244589\n",
            " 1.00262558 1.01013339 1.01496518 1.01766241 1.01914048 1.02045298\n",
            " 1.02254939 1.0260905  1.03134358 1.03817368 1.04611719 1.05451155\n",
            " 1.06265426 1.06995475 1.07604778 1.08085096 1.08455193 1.08753979\n",
            " 1.09029639 1.09328187 1.09683454 1.10111344]\n",
            "28 day output [[1.1060824]]\n",
            "29 day input [0.79805634 0.77368973 0.76924474 0.80201643 0.78880263 0.78326663\n",
            " 0.79298499 0.76708283 0.78732774 0.80757266 0.78607503 0.81155288\n",
            " 0.83751562 0.80221848 0.70168102 0.70252955 0.70038795 0.70408533\n",
            " 0.71040929 0.70752009 0.73016932 0.72142073 0.69335674 0.66395924\n",
            " 0.64799771 0.6405625  0.64943225 0.63003596 0.61979225 0.63019755\n",
            " 0.62870244 0.59748654 0.63001573 0.63714797 0.6322989  0.66941444\n",
            " 0.67050547 0.69477105 0.65660483 0.64500749 0.64395681 0.67545556\n",
            " 0.68238575 0.67280885 0.71111645 0.72323913 0.71855175 0.74006951\n",
            " 0.72396651 0.7433628  0.7425344  0.75829388 0.77433631 0.77484142\n",
            " 0.76972963 0.79383362 0.79435886 0.80953243 0.81096697 0.84230412\n",
            " 0.87719718 0.9019881  0.8982705  0.92720324 0.94478113 0.95320643\n",
            " 0.95862119 0.95237803 0.93346663 0.93086027 0.94001295 0.93379378\n",
            " 0.94412911 0.95470834 0.96710581 0.98020929 0.99244589 1.00262558\n",
            " 1.01013339 1.01496518 1.01766241 1.01914048 1.02045298 1.02254939\n",
            " 1.0260905  1.03134358 1.03817368 1.04611719 1.05451155 1.06265426\n",
            " 1.06995475 1.07604778 1.08085096 1.08455193 1.08753979 1.09029639\n",
            " 1.09328187 1.09683454 1.10111344 1.10608244]\n",
            "29 day output [[1.1115408]]\n",
            "[[0.9337937831878662], [0.9441291093826294], [0.9547083377838135], [0.9671058058738708], [0.9802092909812927], [0.9924458861351013], [1.002625584602356], [1.0101333856582642], [1.0149651765823364], [1.0176624059677124], [1.0191404819488525], [1.0204529762268066], [1.0225493907928467], [1.0260905027389526], [1.0313435792922974], [1.0381736755371094], [1.0461171865463257], [1.054511547088623], [1.0626542568206787], [1.069954752922058], [1.0760477781295776], [1.0808509588241577], [1.0845519304275513], [1.087539792060852], [1.0902963876724243], [1.093281865119934], [1.0968345403671265], [1.1011134386062622], [1.1060824394226074], [1.1115407943725586]]\n"
          ]
        }
      ],
      "source": [
        "# demonstrate prediction for next 10 days\n",
        "from numpy import array\n",
        "\n",
        "lst_output=[]\n",
        "n_steps=100\n",
        "i=0\n",
        "while(i<30):\n",
        "    \n",
        "    if(len(temp_input)>100):\n",
        "        #print(temp_input)\n",
        "        x_input=np.array(temp_input[1:])\n",
        "        print(\"{} day input {}\".format(i,x_input))\n",
        "        x_input=x_input.reshape(1,-1)\n",
        "        x_input = x_input.reshape((1, n_steps, 1))\n",
        "        #print(x_input)\n",
        "        yhat = model.predict(x_input, verbose=0)\n",
        "        print(\"{} day output {}\".format(i,yhat))\n",
        "        temp_input.extend(yhat[0].tolist())\n",
        "        temp_input=temp_input[1:]\n",
        "        #print(temp_input)\n",
        "        lst_output.extend(yhat.tolist())\n",
        "        i=i+1\n",
        "    else:\n",
        "        x_input = x_input.reshape((1, n_steps,1))\n",
        "        yhat = model.predict(x_input, verbose=0)\n",
        "        print(yhat[0])\n",
        "        temp_input.extend(yhat[0].tolist())\n",
        "        print(len(temp_input))\n",
        "        lst_output.extend(yhat.tolist())\n",
        "        i=i+1\n",
        "    \n",
        "\n",
        "print(lst_output)"
      ]
    },
    {
      "cell_type": "code",
      "execution_count": 46,
      "metadata": {
        "id": "DFUY774WFLta"
      },
      "outputs": [],
      "source": [
        "day_new=np.arange(1,101)\n",
        "day_pred=np.arange(101,131)"
      ]
    },
    {
      "cell_type": "code",
      "execution_count": 47,
      "metadata": {
        "id": "iFtvP1-1FLta"
      },
      "outputs": [],
      "source": [
        "import matplotlib.pyplot as plt"
      ]
    },
    {
      "cell_type": "code",
      "execution_count": 48,
      "metadata": {
        "id": "qYkZpUYAFLta",
        "outputId": "2480edce-7ebe-4af6-84d8-287e1fd75a2c",
        "colab": {
          "base_uri": "https://localhost:8080/"
        }
      },
      "outputs": [
        {
          "output_type": "execute_result",
          "data": {
            "text/plain": [
              "1236"
            ]
          },
          "metadata": {},
          "execution_count": 48
        }
      ],
      "source": [
        "len(df1)"
      ]
    },
    {
      "cell_type": "code",
      "execution_count": 48,
      "metadata": {
        "id": "0681sUwrFLta"
      },
      "outputs": [],
      "source": [
        ""
      ]
    },
    {
      "cell_type": "code",
      "execution_count": 51,
      "metadata": {
        "id": "IOeTLKHCFLta",
        "outputId": "7db3d475-ba89-4a4e-feda-1d5a13b5ddc1",
        "colab": {
          "base_uri": "https://localhost:8080/",
          "height": 282
        }
      },
      "outputs": [
        {
          "output_type": "execute_result",
          "data": {
            "text/plain": [
              "[<matplotlib.lines.Line2D at 0x7feb7cb0b590>]"
            ]
          },
          "metadata": {},
          "execution_count": 51
        },
        {
          "output_type": "display_data",
          "data": {
            "text/plain": [
              "<Figure size 432x288 with 1 Axes>"
            ],
            "image/png": "[encoded data removed]"
          },
          "metadata": {
            "needs_background": "light"
          }
        }
      ],
      "source": [
        "plt.plot(day_new,scaler.inverse_transform(df1[1136:]))\n",
        "plt.plot(day_pred,scaler.inverse_transform(lst_output))"
      ]
    },
    {
      "cell_type": "code",
      "execution_count": 52,
      "metadata": {
        "id": "UETdh_2NFLta",
        "outputId": "c28d4272-c176-4844-eafa-306c48bcf4c4",
        "colab": {
          "base_uri": "https://localhost:8080/",
          "height": 282
        }
      },
      "outputs": [
        {
          "output_type": "execute_result",
          "data": {
            "text/plain": [
              "[<matplotlib.lines.Line2D at 0x7feb7c8791d0>]"
            ]
          },
          "metadata": {},
          "execution_count": 52
        },
        {
          "output_type": "display_data",
          "data": {
            "text/plain": [
              "<Figure size 432x288 with 1 Axes>"
            ],
            "image/png": "[encoded data removed]"
          },
          "metadata": {
            "needs_background": "light"
          }
        }
      ],
      "source": [
        "df3=df1.tolist()\n",
        "df3.extend(lst_output)\n",
        "plt.plot(df3[1200:])"
      ]
    },
    {
      "cell_type": "code",
      "execution_count": 53,
      "metadata": {
        "id": "fREDkg8aFLtb"
      },
      "outputs": [],
      "source": [
        "df3=scaler.inverse_transform(df3).tolist()"
      ]
    },
    {
      "cell_type": "code",
      "execution_count": 54,
      "metadata": {
        "id": "O2nWiVHsFLtb",
        "outputId": "e06604a4-c7da-40f2-fdb9-6adfb4546e4d",
        "colab": {
          "base_uri": "https://localhost:8080/",
          "height": 282
        }
      },
      "outputs": [
        {
          "output_type": "execute_result",
          "data": {
            "text/plain": [
              "[<matplotlib.lines.Line2D at 0x7feb7880aa50>]"
            ]
          },
          "metadata": {},
          "execution_count": 54
        },
        {
          "output_type": "display_data",
          "data": {
            "text/plain": [
              "<Figure size 432x288 with 1 Axes>"
            ],
            "image/png": "[encoded data removed]"
          },
          "metadata": {
            "needs_background": "light"
          }
        }
      ],
      "source": [
        "plt.plot(df3)"
      ]
    },
    {
      "cell_type": "code",
      "execution_count": 54,
      "metadata": {
        "id": "rniIiILtFLtb"
      },
      "outputs": [],
      "source": [
        ""
      ]
    }
  ],
  "metadata": {
    "kernelspec": {
      "display_name": "Python 3",
      "language": "python",
      "name": "python3"
    },
    "language_info": {
      "codemirror_mode": {
        "name": "ipython",
        "version": 3
      },
      "file_extension": ".py",
      "mimetype": "text/x-python",
      "name": "python",
      "nbconvert_exporter": "python",
      "pygments_lexer": "ipython3",
      "version": "3.6.9"
    },
    "colab": {
      "name": "NIFTY STOCKS PREDICTION LSTM.ipynb",
      "provenance": [],
      "include_colab_link": true
    }
  },
  "nbformat": 4,
  "nbformat_minor": 0
}